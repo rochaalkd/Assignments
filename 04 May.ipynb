{
 "cells": [
  {
   "cell_type": "markdown",
   "id": "dc5dd6e9",
   "metadata": {},
   "source": [
    "# 1\n",
    "## Time series is a sequence of data points collected or recorded at successive equally spaced points in time.\n",
    "## Some common applications of time series analysis are:\n",
    "### 1.Stock Price Prediction\n",
    "### 2.Weather Forecasting\n",
    "### 3.Demand Forecasting in Energy\n",
    "### 4.Monitoring Patient  Vital signals in Medical ,etc.\n"
   ]
  },
  {
   "cell_type": "code",
   "execution_count": null,
   "id": "4078f5e8",
   "metadata": {},
   "outputs": [],
   "source": []
  },
  {
   "cell_type": "markdown",
   "id": "81f66478",
   "metadata": {},
   "source": [
    "# 2 \n",
    "### The common time series patterns are :\n",
    "#### 1.Trend\n",
    "#### 2.Season\n",
    "#### 3.Cycle\n",
    "#### 4.Noise\n",
    "\n",
    "### Trend:\n",
    "\n",
    "It refers to the general direction in which the data is moving over a long period.It shows a long-term increase or decrease in the series.\n",
    "\n",
    "#### Identification:\n",
    "\n",
    "A steady upward or downward slope when the data is plotted over time.\n",
    "Can be linear or nonlinear\n",
    "\n",
    "#### Interpretation:\n",
    "\n",
    "An upward trend indicates growth.\n",
    "\n",
    "A downward trend indicates decline.\n",
    "\n",
    "No trend indicates stability or randomness in the data over time.\n",
    "\n",
    "### Season:\n",
    "\n",
    "It refers to patterns that repeat at regular intervals over time,often due to external influences like the time of the year, day of the week,or even the hour of the day.\n",
    "\n",
    "#### Identification:\n",
    "\n",
    "Regular peaks and troughs that occur at specific,predictable intervals.\n",
    "\n",
    "Can be identified using techniques like fourier analysis or seasonal decomposition of time series.\n",
    "\n",
    "#### Interpretation:\n",
    "\n",
    "Seasonal patterns are often seen in retail, electricity consumption \n",
    "\n",
    "Understanding seasonality helps in adjusting for periodic changes and predicting demand.\n",
    "\n",
    "### Cycle:\n",
    "\n",
    "It refer to longer term fluctuations that are not as regular as seasonal pattterns. These cycles are often driven by broader economic,political , or environmental factors.\n",
    "\n",
    "#### Identification:\n",
    "Cycles are longer and more variable in length compared to seasonal patterns.\n",
    "Typically identified by observing cycles over several years, using techniques like autocorrelation or moving averages to smooth data.\n",
    "\n",
    "#### Interpretation \n",
    "In finance, business cycles (expansion and contraction phases) are common cyclic patterns.\n",
    "In climate science, cycles like El Niño and La Niña represent long-term weather fluctuations.\n",
    "\n",
    "### Noise\n",
    "They are the unpredictable variations that do not follow a pattern and cannot be attributed to trend, seasonality or cycles.\n",
    "\n",
    "#### Identification:\n",
    "These fluctuations appear as erratic spikes or drops in data.\n",
    "Randomness can be detected after removing trend and seasonal components, using decomposition methods such as additive or multiplicative models.\n",
    "\n",
    "#### Intrepretation:\n",
    "Random fluctuations often represent external, uncontrollable events such as economic shocks, natural disasters, or random market behavior.\n",
    "They are difficult to predict but can be minimized by smoothing techniques or taking longer time averages\n",
    "\n"
   ]
  },
  {
   "cell_type": "code",
   "execution_count": null,
   "id": "99756f2d",
   "metadata": {},
   "outputs": [],
   "source": []
  },
  {
   "cell_type": "markdown",
   "id": "8eb6abe6",
   "metadata": {},
   "source": [
    "# 3 \n",
    "\n",
    "Preprocessing of time -series data includes:\n",
    "1) Handling Missing values\n",
    "\n",
    "2) Smoothing the Data: Datas can be smoothen bt using Moving Averages.\n",
    "\n",
    "3) Differencing to remove trends\n",
    "\n",
    "4) Normalization or Standardization\n",
    "\n",
    "5) Handling Outliers"
   ]
  },
  {
   "cell_type": "code",
   "execution_count": null,
   "id": "45fb106d",
   "metadata": {},
   "outputs": [],
   "source": []
  },
  {
   "cell_type": "markdown",
   "id": "6b05211c",
   "metadata": {},
   "source": [
    "# 4\n",
    "Time series forecasting plays a critical role in business decision-making by providing data-driven insights that help predict future trends and behaviors based on historical patterns.\n",
    "\n",
    "#### Applications of Time Series Forecasting in Business Decision-Making includes Demand Forecasting,Sales Forecasting,Financial Planning and Budgeting, Capacity Planning and Supply Chain Management.\n",
    "\n",
    "## Common Challenges and Limitations are:\n",
    "\n",
    "1) Data Quality Issues:Inconsistent,missing , or inaccurate data can lead to unreliable forecasts.\n",
    "\n",
    "2) Seasonality and Cyclic Behaviour: Many time series exhibit seasonal patterns, which must be identified and accounted for in the model.\n",
    "\n",
    "3) Sudden Changes or Shocks: Sudden, unpredictable events like economic recessions, pandemics, or supply chain disruptions are difficult to predict using historical data.\n"
   ]
  },
  {
   "cell_type": "code",
   "execution_count": null,
   "id": "043c30d8",
   "metadata": {},
   "outputs": [],
   "source": []
  },
  {
   "cell_type": "markdown",
   "id": "e2ec0d38",
   "metadata": {},
   "source": [
    "# 5\n",
    "\n",
    "ARIMA (AutoRegressive Integrated Moving Average) is one of the most widely used statistical models for time series forecasting. It combines three key components—autoregression (AR), differencing (I for integration), and moving average (MA)—to capture various aspects of time series data, such as trends and seasonality. ARIMA models are effective for stationary data, meaning that the underlying statistical properties (like mean and variance) are constant over time\n",
    "### How ARIMA is Used for Forecasting Time Series Data\n",
    "1. Make the Time Series Stationary\n",
    "Differencing: Apply differencing to remove trends or seasonal effects, ensuring the time series has constant mean and variance over time.\n",
    "\n",
    "\n",
    "Stationarity Check: You can check for stationarity using statistical tests like the Augmented Dickey-Fuller (ADF) test or visually inspect the data using plots like autocorrelation (ACF) plots.\n",
    "\n",
    "2. Determine Model Parameters (p, d, q)\n",
    "Auto-Correlation Function (ACF) and Partial Auto-Correlation Function (PACF) plots are used to help determine the values of p and q.\n",
    "\n",
    "ACF: Used to identify the q (MA) component.\n",
    "\n",
    "PACF: Used to identify the p (AR) component.\n",
    "\n",
    "The order of differencing (d) is determined based on how many differences are needed to make the series stationary.\n",
    "\n",
    "ACF/PACF interpretation:\n",
    "\n",
    "If the ACF plot cuts off after a lag, it suggests a moving average process.\n",
    "\n",
    "If the PACF plot cuts off after a lag, it suggests an autoregressive process.\n",
    "\n"
   ]
  },
  {
   "cell_type": "code",
   "execution_count": null,
   "id": "cd66ee74",
   "metadata": {},
   "outputs": [],
   "source": []
  },
  {
   "cell_type": "markdown",
   "id": "c72352aa",
   "metadata": {},
   "source": [
    "# 6\n",
    "The ACF plot is used to identify the moving average (MA) order \n",
    "𝑞\n",
    "\n",
    "In an MA(q) model, the ACF will show significant spikes up to lag \n",
    "𝑞\n",
    "q, after which the autocorrelations will drop off abruptly (i.e., they become zero).\n",
    "\n",
    "If the ACF gradually decays (instead of cutting off sharply), this suggests an autoregressive component, rather than a moving average one\n",
    "\n",
    "The PACF plot is used to identify the autoregressive (AR) order \n",
    "𝑝\n",
    "p.\n",
    "\n",
    "In an AR(p) model, the PACF will show significant spikes up to lag \n",
    "𝑝\n",
    "\n",
    "p, after which the partial autocorrelations will drop off abruptly (i.e., they become zero).\n",
    "\n",
    "If the PACF decays slowly, it suggests the presence of a moving average component\n",
    "\n"
   ]
  },
  {
   "cell_type": "code",
   "execution_count": null,
   "id": "7f3c428c",
   "metadata": {},
   "outputs": [],
   "source": []
  },
  {
   "cell_type": "markdown",
   "id": "09e5e7f0",
   "metadata": {},
   "source": [
    "# 7\n",
    "#### The assumptions of the ARIMA model are:\n",
    "1) Stationarity of the Time Series\n",
    "\n",
    "2) Linearity\n",
    "\n",
    "3) No Autocorrelation in Residuals\n",
    "\n",
    "4) Normally distributed Residuals\n",
    "\n",
    "5) Homoscedasticity of Residuals\n",
    "\n",
    "6) Sufficiently Long Time Series\n"
   ]
  },
  {
   "cell_type": "code",
   "execution_count": null,
   "id": "0b818653",
   "metadata": {},
   "outputs": [],
   "source": []
  },
  {
   "cell_type": "markdown",
   "id": "fb7eeb6e",
   "metadata": {},
   "source": [
    "# 8\n",
    "When selecting a time series model for forecasting future sales based on monthly sales data for a retail store over the past three years, there are several factors to consider, including the characteristics of the data (e.g., trend, seasonality), the specific business context, and the goals of the forecast. So Seasonal ARIMA is used.\n"
   ]
  },
  {
   "cell_type": "code",
   "execution_count": null,
   "id": "f692b16f",
   "metadata": {},
   "outputs": [],
   "source": []
  },
  {
   "cell_type": "markdown",
   "id": "0d059e14",
   "metadata": {},
   "source": [
    "# 9\n",
    "#### Limitations of Time Series Analysis are:\n",
    "1) Assumption of Stationarity\n",
    "\n",
    "2) Sensitivity to Outliers\n",
    "\n",
    "3) Complex Seasonal Patterns\n",
    "\n",
    "4) Non-Linearity\n",
    "\n",
    "5) Limited to Historical Data\n",
    "\n",
    "6) Difficulty Incorporating External Factors"
   ]
  },
  {
   "cell_type": "code",
   "execution_count": null,
   "id": "1a894c0d",
   "metadata": {},
   "outputs": [],
   "source": []
  },
  {
   "cell_type": "markdown",
   "id": "26dd0afb",
   "metadata": {},
   "source": [
    "# 10\n",
    " ### Stationary Time Series\n",
    " \n",
    " . A stationary time series is one whose statistical properties do not change over time.\n",
    " \n",
    " . The series does not show a long-term increase or decrease.\n",
    " \n",
    " . Fluctuations are random and do not repeat in a regular pattern.\n",
    " \n",
    " . The variance of the series remains constant over time.\n",
    " \n",
    " ### Non Stationary Time Series\n",
    " \n",
    " . A non-stationary time series is one whose statistical properties change over time.\n",
    " \n",
    " .The series may show consistent upward or downward movements over time.\n",
    " \n",
    " .The series may have repeating patterns or cycles at specific intervals (e.g., yearly, quarterly).\n",
    " \n",
    " . The variance may increase or decrease, often related to time.\n",
    " \n",
    " \n",
    "#### The stationarity of the series directly impacts model selection, complexity, and forecasting accuracy. Addressing non-stationarity through appropriate transformations or model choices can lead to more reliable and accurate forecasts, ultimately aiding in better decision-making."
   ]
  },
  {
   "cell_type": "code",
   "execution_count": null,
   "id": "b3789038",
   "metadata": {},
   "outputs": [],
   "source": []
  }
 ],
 "metadata": {
  "kernelspec": {
   "display_name": "Python 3 (ipykernel)",
   "language": "python",
   "name": "python3"
  },
  "language_info": {
   "codemirror_mode": {
    "name": "ipython",
    "version": 3
   },
   "file_extension": ".py",
   "mimetype": "text/x-python",
   "name": "python",
   "nbconvert_exporter": "python",
   "pygments_lexer": "ipython3",
   "version": "3.9.13"
  }
 },
 "nbformat": 4,
 "nbformat_minor": 5
}
