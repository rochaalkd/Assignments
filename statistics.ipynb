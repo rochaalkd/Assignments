{
 "cells": [
  {
   "cell_type": "code",
   "execution_count": 12,
   "id": "32cb5393",
   "metadata": {},
   "outputs": [],
   "source": [
    "import numpy as np\n",
    "import pandas as pd\n",
    "import statistics as st"
   ]
  },
  {
   "cell_type": "markdown",
   "id": "93bd4a5e",
   "metadata": {},
   "source": [
    "# 1"
   ]
  },
  {
   "cell_type": "markdown",
   "id": "1dfa2944",
   "metadata": {},
   "source": [
    "The three Measures of central tendency are:\n",
    "\n",
    "    1)Mean\n",
    "    \n",
    "    2)Median\n",
    "    \n",
    "    3)Mode"
   ]
  },
  {
   "cell_type": "markdown",
   "id": "cf18bae5",
   "metadata": {},
   "source": [
    "## 2"
   ]
  },
  {
   "cell_type": "markdown",
   "id": "2af7d1e2",
   "metadata": {},
   "source": [
    "Mean is the average of the data set.\n",
    "\n",
    "Median is the Middle value of the data set.\n",
    "\n",
    "Mode is the most repeated value of the data set.\n",
    "\n",
    "These values describes summary of the whole data with a single number."
   ]
  },
  {
   "cell_type": "markdown",
   "id": "4e0b0d2a",
   "metadata": {},
   "source": [
    "## 3"
   ]
  },
  {
   "cell_type": "code",
   "execution_count": 14,
   "id": "434214ce",
   "metadata": {},
   "outputs": [],
   "source": [
    "data1=np.array([178,177,176,177,178.2,178,175,179,180,175,178.9,176.2,177,172.5,178,176.5])"
   ]
  },
  {
   "cell_type": "code",
   "execution_count": 15,
   "id": "9febb88c",
   "metadata": {},
   "outputs": [
    {
     "data": {
      "text/plain": [
       "177.01875"
      ]
     },
     "execution_count": 15,
     "metadata": {},
     "output_type": "execute_result"
    }
   ],
   "source": [
    "data1.mean()"
   ]
  },
  {
   "cell_type": "code",
   "execution_count": 16,
   "id": "25ce80e8",
   "metadata": {},
   "outputs": [
    {
     "data": {
      "text/plain": [
       "177.0"
      ]
     },
     "execution_count": 16,
     "metadata": {},
     "output_type": "execute_result"
    }
   ],
   "source": [
    "np.median(data1)"
   ]
  },
  {
   "cell_type": "code",
   "execution_count": 17,
   "id": "faf6e4e9",
   "metadata": {},
   "outputs": [
    {
     "data": {
      "text/plain": [
       "178.0"
      ]
     },
     "execution_count": 17,
     "metadata": {},
     "output_type": "execute_result"
    }
   ],
   "source": [
    "st.mode(data1)"
   ]
  },
  {
   "cell_type": "markdown",
   "id": "4760168b",
   "metadata": {},
   "source": [
    "## 4"
   ]
  },
  {
   "cell_type": "code",
   "execution_count": 18,
   "id": "b380f7c3",
   "metadata": {},
   "outputs": [],
   "source": [
    "data2=np.array([178,177,176,177,178.2,178,175,179,180,175,178.9,176.2,177,172.5,178,176.5])"
   ]
  },
  {
   "cell_type": "code",
   "execution_count": 19,
   "id": "68d0e8bf",
   "metadata": {},
   "outputs": [
    {
     "data": {
      "text/plain": [
       "1.8472389305844188"
      ]
     },
     "execution_count": 19,
     "metadata": {},
     "output_type": "execute_result"
    }
   ],
   "source": [
    "st.stdev(data2)"
   ]
  },
  {
   "cell_type": "markdown",
   "id": "e1b88382",
   "metadata": {},
   "source": [
    "## 5"
   ]
  },
  {
   "cell_type": "markdown",
   "id": "a93abd19",
   "metadata": {},
   "source": [
    "\n",
    "\n",
    "\n",
    "Range of a dataset represents the difference between the highest and lowest element of it.\n",
    "It helps us to know the extent of a dataset.\n",
    "\n",
    "Variance is the spread among the elements of a datasets.\n",
    "\n",
    "Standard deviation is the deviation of the elements of the datasets from the mean value.\n",
    "\n"
   ]
  },
  {
   "cell_type": "code",
   "execution_count": 20,
   "id": "637d5299",
   "metadata": {},
   "outputs": [],
   "source": [
    "#example\n",
    "import seaborn as sns"
   ]
  },
  {
   "cell_type": "code",
   "execution_count": 21,
   "id": "94e27cea",
   "metadata": {},
   "outputs": [],
   "source": [
    "data1=sns.load_dataset('exercise')"
   ]
  },
  {
   "cell_type": "code",
   "execution_count": 22,
   "id": "67f211fc",
   "metadata": {},
   "outputs": [
    {
     "data": {
      "text/html": [
       "<div>\n",
       "<style scoped>\n",
       "    .dataframe tbody tr th:only-of-type {\n",
       "        vertical-align: middle;\n",
       "    }\n",
       "\n",
       "    .dataframe tbody tr th {\n",
       "        vertical-align: top;\n",
       "    }\n",
       "\n",
       "    .dataframe thead th {\n",
       "        text-align: right;\n",
       "    }\n",
       "</style>\n",
       "<table border=\"1\" class=\"dataframe\">\n",
       "  <thead>\n",
       "    <tr style=\"text-align: right;\">\n",
       "      <th></th>\n",
       "      <th>Unnamed: 0</th>\n",
       "      <th>id</th>\n",
       "      <th>diet</th>\n",
       "      <th>pulse</th>\n",
       "      <th>time</th>\n",
       "      <th>kind</th>\n",
       "    </tr>\n",
       "  </thead>\n",
       "  <tbody>\n",
       "    <tr>\n",
       "      <th>0</th>\n",
       "      <td>0</td>\n",
       "      <td>1</td>\n",
       "      <td>low fat</td>\n",
       "      <td>85</td>\n",
       "      <td>1 min</td>\n",
       "      <td>rest</td>\n",
       "    </tr>\n",
       "    <tr>\n",
       "      <th>1</th>\n",
       "      <td>1</td>\n",
       "      <td>1</td>\n",
       "      <td>low fat</td>\n",
       "      <td>85</td>\n",
       "      <td>15 min</td>\n",
       "      <td>rest</td>\n",
       "    </tr>\n",
       "    <tr>\n",
       "      <th>2</th>\n",
       "      <td>2</td>\n",
       "      <td>1</td>\n",
       "      <td>low fat</td>\n",
       "      <td>88</td>\n",
       "      <td>30 min</td>\n",
       "      <td>rest</td>\n",
       "    </tr>\n",
       "    <tr>\n",
       "      <th>3</th>\n",
       "      <td>3</td>\n",
       "      <td>2</td>\n",
       "      <td>low fat</td>\n",
       "      <td>90</td>\n",
       "      <td>1 min</td>\n",
       "      <td>rest</td>\n",
       "    </tr>\n",
       "    <tr>\n",
       "      <th>4</th>\n",
       "      <td>4</td>\n",
       "      <td>2</td>\n",
       "      <td>low fat</td>\n",
       "      <td>92</td>\n",
       "      <td>15 min</td>\n",
       "      <td>rest</td>\n",
       "    </tr>\n",
       "    <tr>\n",
       "      <th>...</th>\n",
       "      <td>...</td>\n",
       "      <td>...</td>\n",
       "      <td>...</td>\n",
       "      <td>...</td>\n",
       "      <td>...</td>\n",
       "      <td>...</td>\n",
       "    </tr>\n",
       "    <tr>\n",
       "      <th>85</th>\n",
       "      <td>85</td>\n",
       "      <td>29</td>\n",
       "      <td>no fat</td>\n",
       "      <td>135</td>\n",
       "      <td>15 min</td>\n",
       "      <td>running</td>\n",
       "    </tr>\n",
       "    <tr>\n",
       "      <th>86</th>\n",
       "      <td>86</td>\n",
       "      <td>29</td>\n",
       "      <td>no fat</td>\n",
       "      <td>130</td>\n",
       "      <td>30 min</td>\n",
       "      <td>running</td>\n",
       "    </tr>\n",
       "    <tr>\n",
       "      <th>87</th>\n",
       "      <td>87</td>\n",
       "      <td>30</td>\n",
       "      <td>no fat</td>\n",
       "      <td>99</td>\n",
       "      <td>1 min</td>\n",
       "      <td>running</td>\n",
       "    </tr>\n",
       "    <tr>\n",
       "      <th>88</th>\n",
       "      <td>88</td>\n",
       "      <td>30</td>\n",
       "      <td>no fat</td>\n",
       "      <td>111</td>\n",
       "      <td>15 min</td>\n",
       "      <td>running</td>\n",
       "    </tr>\n",
       "    <tr>\n",
       "      <th>89</th>\n",
       "      <td>89</td>\n",
       "      <td>30</td>\n",
       "      <td>no fat</td>\n",
       "      <td>150</td>\n",
       "      <td>30 min</td>\n",
       "      <td>running</td>\n",
       "    </tr>\n",
       "  </tbody>\n",
       "</table>\n",
       "<p>90 rows × 6 columns</p>\n",
       "</div>"
      ],
      "text/plain": [
       "    Unnamed: 0  id     diet  pulse    time     kind\n",
       "0            0   1  low fat     85   1 min     rest\n",
       "1            1   1  low fat     85  15 min     rest\n",
       "2            2   1  low fat     88  30 min     rest\n",
       "3            3   2  low fat     90   1 min     rest\n",
       "4            4   2  low fat     92  15 min     rest\n",
       "..         ...  ..      ...    ...     ...      ...\n",
       "85          85  29   no fat    135  15 min  running\n",
       "86          86  29   no fat    130  30 min  running\n",
       "87          87  30   no fat     99   1 min  running\n",
       "88          88  30   no fat    111  15 min  running\n",
       "89          89  30   no fat    150  30 min  running\n",
       "\n",
       "[90 rows x 6 columns]"
      ]
     },
     "execution_count": 22,
     "metadata": {},
     "output_type": "execute_result"
    }
   ],
   "source": [
    "data1"
   ]
  },
  {
   "cell_type": "code",
   "execution_count": 23,
   "id": "374e5927",
   "metadata": {},
   "outputs": [
    {
     "data": {
      "text/plain": [
       "14.858470893849434"
      ]
     },
     "execution_count": 23,
     "metadata": {},
     "output_type": "execute_result"
    }
   ],
   "source": [
    "data1['pulse'].std()"
   ]
  },
  {
   "cell_type": "code",
   "execution_count": 26,
   "id": "dbf37554",
   "metadata": {},
   "outputs": [
    {
     "data": {
      "text/plain": [
       "70"
      ]
     },
     "execution_count": 26,
     "metadata": {},
     "output_type": "execute_result"
    }
   ],
   "source": [
    "range_=data1['pulse'].max()-data1['pulse'].min()\n",
    "range_"
   ]
  },
  {
   "cell_type": "code",
   "execution_count": 27,
   "id": "277c833b",
   "metadata": {},
   "outputs": [
    {
     "data": {
      "text/plain": [
       "220.77415730337077"
      ]
     },
     "execution_count": 27,
     "metadata": {},
     "output_type": "execute_result"
    }
   ],
   "source": [
    "st.variance(data1['pulse'])"
   ]
  },
  {
   "cell_type": "markdown",
   "id": "f9348fc9",
   "metadata": {},
   "source": [
    "## 6"
   ]
  },
  {
   "cell_type": "markdown",
   "id": "1c96277b",
   "metadata": {},
   "source": [
    "Venn diagram is a diagram used in sets to represent the elements of  sets and relationship between the sets."
   ]
  },
  {
   "cell_type": "markdown",
   "id": "00f2bf30",
   "metadata": {},
   "source": [
    "## 7"
   ]
  },
  {
   "cell_type": "code",
   "execution_count": 31,
   "id": "9a3a58d7",
   "metadata": {},
   "outputs": [],
   "source": [
    "A = {2,3,4,5,6,7} \n",
    "B = {0,2,6,8,10}"
   ]
  },
  {
   "cell_type": "code",
   "execution_count": 33,
   "id": "ca20f452",
   "metadata": {},
   "outputs": [
    {
     "data": {
      "text/plain": [
       "{0, 2, 3, 4, 5, 6, 7, 8, 10}"
      ]
     },
     "execution_count": 33,
     "metadata": {},
     "output_type": "execute_result"
    }
   ],
   "source": [
    "#A ⋃ B\n",
    "A | B"
   ]
  },
  {
   "cell_type": "code",
   "execution_count": 34,
   "id": "3ad2f4ba",
   "metadata": {},
   "outputs": [
    {
     "data": {
      "text/plain": [
       "{2, 6}"
      ]
     },
     "execution_count": 34,
     "metadata": {},
     "output_type": "execute_result"
    }
   ],
   "source": [
    "#A cap  B\n",
    "A & B"
   ]
  },
  {
   "cell_type": "markdown",
   "id": "7a2c42a7",
   "metadata": {},
   "source": [
    "## 8"
   ]
  },
  {
   "cell_type": "markdown",
   "id": "4993d8bd",
   "metadata": {},
   "source": [
    "Skewness is the measure of assymetrical of the data."
   ]
  },
  {
   "cell_type": "markdown",
   "id": "019eef33",
   "metadata": {},
   "source": [
    "## 9"
   ]
  },
  {
   "cell_type": "markdown",
   "id": "685768fd",
   "metadata": {},
   "source": [
    "For a right skewed data.\n",
    "mean>median"
   ]
  },
  {
   "cell_type": "markdown",
   "id": "35009d35",
   "metadata": {},
   "source": [
    "## 10"
   ]
  },
  {
   "cell_type": "markdown",
   "id": "bfa09a60",
   "metadata": {},
   "source": [
    "Covariance is a statistical term that refers to a systematic relationship between two \n",
    "random variables in which a change in the other reflects a change in one variable.\n",
    "\n",
    "The covariance value can range from -∞ to +∞, with a negative value indicating a negative relationship\n",
    "and a positive value indicating a positive relationship.\n",
    "\n",
    "The greater this number, the more reliant the relationship. Positive covariance denotes a direct relationship and is represented by a positive number.\n",
    "\n",
    "A negative number, on the other hand, denotes negative covariance, \n",
    "which indicates an inverse relationship between the two variables.\n",
    "Covariance is great for defining the type of relationship, but it's terrible for interpreting the magnitude."
   ]
  },
  {
   "cell_type": "markdown",
   "id": "2c5d3ab4",
   "metadata": {},
   "source": [
    "Correlation"
   ]
  },
  {
   "cell_type": "markdown",
   "id": "59fc0b2b",
   "metadata": {},
   "source": [
    "In statistics, correlation is a measure that determines the degree to which two or more random variables move in sequence. When an equivalent movement of another variable reciprocates the movement of one variable in some way or another during the study of two variables, the variables are said to be correlated."
   ]
  },
  {
   "cell_type": "markdown",
   "id": "b935a02e",
   "metadata": {},
   "source": [
    "The value of correlation ranges from -1 t0 +1"
   ]
  },
  {
   "cell_type": "markdown",
   "id": "66daaeee",
   "metadata": {},
   "source": [
    "## 11"
   ]
  },
  {
   "cell_type": "markdown",
   "id": "7f11cbac",
   "metadata": {},
   "source": [
    "Sample mean is claculated by using the formula.\n",
    "\n",
    " x̄ = ( Σ xi ) ÷ n"
   ]
  },
  {
   "cell_type": "code",
   "execution_count": 40,
   "id": "d69a2609",
   "metadata": {},
   "outputs": [],
   "source": [
    "x=[1,2,3,4,5,6]\n",
    "s=0\n",
    "\n",
    "for i in x:\n",
    "    s=s+i\n",
    " \n",
    "mean=s/len(x)"
   ]
  },
  {
   "cell_type": "code",
   "execution_count": 41,
   "id": "47a59b2f",
   "metadata": {},
   "outputs": [
    {
     "data": {
      "text/plain": [
       "3.5"
      ]
     },
     "execution_count": 41,
     "metadata": {},
     "output_type": "execute_result"
    }
   ],
   "source": [
    "mean"
   ]
  },
  {
   "cell_type": "markdown",
   "id": "80b762a4",
   "metadata": {},
   "source": [
    "## 12"
   ]
  },
  {
   "cell_type": "markdown",
   "id": "e51a7543",
   "metadata": {},
   "source": [
    "For Normal Distribution :\n",
    "\n",
    "    mean=median=mode"
   ]
  },
  {
   "cell_type": "markdown",
   "id": "33c9645d",
   "metadata": {},
   "source": [
    "## 14"
   ]
  },
  {
   "cell_type": "markdown",
   "id": "d672caaf",
   "metadata": {},
   "source": [
    "When a outlier is present it can effect the shape of the graph, if we have outliers to the right of the graph.\n",
    "These outliers are causing the mean to increase, but if we have outliers to the left of the graph these outliers are \n",
    "dragging down the mean. \n",
    "This causes a conflict because the mean no longer provides a good representation of the data,\n",
    "alternatively we would much rather use the median.\n",
    "The median on the other hand is less likely to be affect by outliers."
   ]
  },
  {
   "cell_type": "code",
   "execution_count": 43,
   "id": "ee762080",
   "metadata": {},
   "outputs": [],
   "source": [
    "y=[12,13,14,15,350]"
   ]
  },
  {
   "cell_type": "code",
   "execution_count": 45,
   "id": "6650cc42",
   "metadata": {},
   "outputs": [
    {
     "data": {
      "text/plain": [
       "80.8"
      ]
     },
     "execution_count": 45,
     "metadata": {},
     "output_type": "execute_result"
    }
   ],
   "source": [
    "st.mean(y)"
   ]
  },
  {
   "cell_type": "code",
   "execution_count": 46,
   "id": "aa879833",
   "metadata": {},
   "outputs": [
    {
     "data": {
      "text/plain": [
       "14"
      ]
     },
     "execution_count": 46,
     "metadata": {},
     "output_type": "execute_result"
    }
   ],
   "source": [
    "st.median(y)"
   ]
  },
  {
   "cell_type": "code",
   "execution_count": null,
   "id": "619ec09f",
   "metadata": {},
   "outputs": [],
   "source": []
  }
 ],
 "metadata": {
  "kernelspec": {
   "display_name": "Python 3 (ipykernel)",
   "language": "python",
   "name": "python3"
  },
  "language_info": {
   "codemirror_mode": {
    "name": "ipython",
    "version": 3
   },
   "file_extension": ".py",
   "mimetype": "text/x-python",
   "name": "python",
   "nbconvert_exporter": "python",
   "pygments_lexer": "ipython3",
   "version": "3.9.13"
  }
 },
 "nbformat": 4,
 "nbformat_minor": 5
}
