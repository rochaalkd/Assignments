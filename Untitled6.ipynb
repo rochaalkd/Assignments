{
 "cells": [
  {
   "cell_type": "markdown",
   "id": "1b80fb09-eca8-4e3d-a702-ed88be253245",
   "metadata": {},
   "source": [
    "1"
   ]
  },
  {
   "cell_type": "markdown",
   "id": "a74c763c-c2c0-41fe-a1f4-bdf87e113024",
   "metadata": {},
   "source": [
    "functions of pandas library with execution"
   ]
  },
  {
   "cell_type": "code",
   "execution_count": 1,
   "id": "7d96eb42-0356-4f78-b933-361260f37503",
   "metadata": {},
   "outputs": [],
   "source": [
    "import pandas as pd"
   ]
  },
  {
   "cell_type": "code",
   "execution_count": 7,
   "id": "1b601d16-fef9-4745-be31-89a20ea40b51",
   "metadata": {},
   "outputs": [],
   "source": [
    "df=pd.read_csv('fool.csv')"
   ]
  },
  {
   "cell_type": "code",
   "execution_count": 8,
   "id": "6713b624-438c-45cb-83af-cd7792fc9733",
   "metadata": {},
   "outputs": [
    {
     "data": {
      "text/html": [
       "<div>\n",
       "<style scoped>\n",
       "    .dataframe tbody tr th:only-of-type {\n",
       "        vertical-align: middle;\n",
       "    }\n",
       "\n",
       "    .dataframe tbody tr th {\n",
       "        vertical-align: top;\n",
       "    }\n",
       "\n",
       "    .dataframe thead th {\n",
       "        text-align: right;\n",
       "    }\n",
       "</style>\n",
       "<table border=\"1\" class=\"dataframe\">\n",
       "  <thead>\n",
       "    <tr style=\"text-align: right;\">\n",
       "      <th></th>\n",
       "      <th>Brand</th>\n",
       "      <th>Model</th>\n",
       "      <th>Type</th>\n",
       "      <th>Gender</th>\n",
       "      <th>Size</th>\n",
       "      <th>Color</th>\n",
       "      <th>Material</th>\n",
       "      <th>Price (USD)</th>\n",
       "    </tr>\n",
       "  </thead>\n",
       "  <tbody>\n",
       "    <tr>\n",
       "      <th>0</th>\n",
       "      <td>Nike</td>\n",
       "      <td>Air Jordan 1</td>\n",
       "      <td>Basketball</td>\n",
       "      <td>Men</td>\n",
       "      <td>US 10</td>\n",
       "      <td>Red/Black</td>\n",
       "      <td>Leather</td>\n",
       "      <td>$170.00</td>\n",
       "    </tr>\n",
       "    <tr>\n",
       "      <th>1</th>\n",
       "      <td>Adidas</td>\n",
       "      <td>Ultra Boost 21</td>\n",
       "      <td>Running</td>\n",
       "      <td>Men</td>\n",
       "      <td>US 9.5</td>\n",
       "      <td>Black</td>\n",
       "      <td>Primeknit</td>\n",
       "      <td>$180.00</td>\n",
       "    </tr>\n",
       "    <tr>\n",
       "      <th>2</th>\n",
       "      <td>Reebok</td>\n",
       "      <td>Classic Leather</td>\n",
       "      <td>Casual</td>\n",
       "      <td>Men</td>\n",
       "      <td>US 11</td>\n",
       "      <td>White</td>\n",
       "      <td>Leather</td>\n",
       "      <td>$75.00</td>\n",
       "    </tr>\n",
       "    <tr>\n",
       "      <th>3</th>\n",
       "      <td>Converse</td>\n",
       "      <td>Chuck Taylor</td>\n",
       "      <td>Casual</td>\n",
       "      <td>Women</td>\n",
       "      <td>US 8</td>\n",
       "      <td>Navy</td>\n",
       "      <td>Canvas</td>\n",
       "      <td>$55.00</td>\n",
       "    </tr>\n",
       "    <tr>\n",
       "      <th>4</th>\n",
       "      <td>Puma</td>\n",
       "      <td>Future Rider</td>\n",
       "      <td>Lifestyle</td>\n",
       "      <td>Women</td>\n",
       "      <td>US 7.5</td>\n",
       "      <td>Pink</td>\n",
       "      <td>Mesh</td>\n",
       "      <td>$80.00</td>\n",
       "    </tr>\n",
       "    <tr>\n",
       "      <th>...</th>\n",
       "      <td>...</td>\n",
       "      <td>...</td>\n",
       "      <td>...</td>\n",
       "      <td>...</td>\n",
       "      <td>...</td>\n",
       "      <td>...</td>\n",
       "      <td>...</td>\n",
       "      <td>...</td>\n",
       "    </tr>\n",
       "    <tr>\n",
       "      <th>1001</th>\n",
       "      <td>New Balance</td>\n",
       "      <td>Fresh Foam 880v11</td>\n",
       "      <td>Running</td>\n",
       "      <td>Women</td>\n",
       "      <td>US 10</td>\n",
       "      <td>Grey</td>\n",
       "      <td>Mesh</td>\n",
       "      <td>$130.00</td>\n",
       "    </tr>\n",
       "    <tr>\n",
       "      <th>1002</th>\n",
       "      <td>Asics</td>\n",
       "      <td>Gel-Kayano Lite</td>\n",
       "      <td>Running</td>\n",
       "      <td>Men</td>\n",
       "      <td>US 9.5</td>\n",
       "      <td>Black</td>\n",
       "      <td>Mesh</td>\n",
       "      <td>$160.00</td>\n",
       "    </tr>\n",
       "    <tr>\n",
       "      <th>1003</th>\n",
       "      <td>Fila</td>\n",
       "      <td>Venom 94</td>\n",
       "      <td>Fashion</td>\n",
       "      <td>Women</td>\n",
       "      <td>US 7.5</td>\n",
       "      <td>White</td>\n",
       "      <td>Leather</td>\n",
       "      <td>$70.00</td>\n",
       "    </tr>\n",
       "    <tr>\n",
       "      <th>1004</th>\n",
       "      <td>Skechers</td>\n",
       "      <td>Summits</td>\n",
       "      <td>Training</td>\n",
       "      <td>Men</td>\n",
       "      <td>US 8</td>\n",
       "      <td>Grey</td>\n",
       "      <td>Mesh</td>\n",
       "      <td>$55.00</td>\n",
       "    </tr>\n",
       "    <tr>\n",
       "      <th>1005</th>\n",
       "      <td>Nike</td>\n",
       "      <td>Air Max 97</td>\n",
       "      <td>Running</td>\n",
       "      <td>Women</td>\n",
       "      <td>US 7.5</td>\n",
       "      <td>Silver</td>\n",
       "      <td>Leather</td>\n",
       "      <td>$170.00</td>\n",
       "    </tr>\n",
       "  </tbody>\n",
       "</table>\n",
       "<p>1006 rows × 8 columns</p>\n",
       "</div>"
      ],
      "text/plain": [
       "            Brand              Model        Type Gender    Size      Color  \\\n",
       "0            Nike       Air Jordan 1  Basketball    Men   US 10  Red/Black   \n",
       "1          Adidas     Ultra Boost 21     Running    Men  US 9.5      Black   \n",
       "2          Reebok    Classic Leather      Casual    Men   US 11      White   \n",
       "3        Converse       Chuck Taylor      Casual  Women    US 8       Navy   \n",
       "4            Puma       Future Rider   Lifestyle  Women  US 7.5       Pink   \n",
       "...           ...                ...         ...    ...     ...        ...   \n",
       "1001  New Balance  Fresh Foam 880v11     Running  Women   US 10       Grey   \n",
       "1002        Asics    Gel-Kayano Lite     Running    Men  US 9.5      Black   \n",
       "1003         Fila           Venom 94     Fashion  Women  US 7.5      White   \n",
       "1004     Skechers            Summits    Training    Men    US 8       Grey   \n",
       "1005         Nike         Air Max 97     Running  Women  US 7.5     Silver   \n",
       "\n",
       "       Material Price (USD)  \n",
       "0       Leather    $170.00   \n",
       "1     Primeknit    $180.00   \n",
       "2       Leather     $75.00   \n",
       "3        Canvas     $55.00   \n",
       "4          Mesh     $80.00   \n",
       "...         ...         ...  \n",
       "1001       Mesh    $130.00   \n",
       "1002       Mesh    $160.00   \n",
       "1003    Leather     $70.00   \n",
       "1004       Mesh     $55.00   \n",
       "1005    Leather    $170.00   \n",
       "\n",
       "[1006 rows x 8 columns]"
      ]
     },
     "execution_count": 8,
     "metadata": {},
     "output_type": "execute_result"
    }
   ],
   "source": [
    "df"
   ]
  },
  {
   "cell_type": "code",
   "execution_count": 11,
   "id": "bb96d753-dc37-4278-8884-8abac9fcdee4",
   "metadata": {},
   "outputs": [
    {
     "data": {
      "text/plain": [
       "array(['Leather', 'Primeknit', 'Canvas', 'Mesh', 'Suede/Canvas',\n",
       "       'Suede/Mesh', 'Leather/Synthetic', 'Suede', 'Synthetic',\n",
       "       'Mesh/Synthetic', 'Suede/Textile', 'Knit', 'Nylon', 'Flexweave',\n",
       "       'Flyknit', 'Mesh/Leather', 'Suede/Leather', 'Canvas/Suede',\n",
       "       'Textile/Leather', 'Leather/Suede', 'Synthetic/Mesh',\n",
       "       'Canvas/Leather', 'Nylon/Suede', 'Flexweave/Knit', 'Suede/Nylon',\n",
       "       'Primeknit/Synthetic', 'Synthetic/Leather', 'Leather/Mesh',\n",
       "       'Knit/Synthetic', 'Synthetic/Textile', 'Textile',\n",
       "       'Flexweave/Cushioning', 'Flexweave/Synthetic', 'Mesh/Suede'],\n",
       "      dtype=object)"
      ]
     },
     "execution_count": 11,
     "metadata": {},
     "output_type": "execute_result"
    }
   ],
   "source": [
    "df['Material'].unique()"
   ]
  },
  {
   "cell_type": "code",
   "execution_count": 12,
   "id": "d0780598-273d-4c4d-8701-35371214688b",
   "metadata": {},
   "outputs": [
    {
     "data": {
      "text/html": [
       "<div>\n",
       "<style scoped>\n",
       "    .dataframe tbody tr th:only-of-type {\n",
       "        vertical-align: middle;\n",
       "    }\n",
       "\n",
       "    .dataframe tbody tr th {\n",
       "        vertical-align: top;\n",
       "    }\n",
       "\n",
       "    .dataframe thead th {\n",
       "        text-align: right;\n",
       "    }\n",
       "</style>\n",
       "<table border=\"1\" class=\"dataframe\">\n",
       "  <thead>\n",
       "    <tr style=\"text-align: right;\">\n",
       "      <th></th>\n",
       "      <th>Brand</th>\n",
       "      <th>Model</th>\n",
       "      <th>Type</th>\n",
       "      <th>Gender</th>\n",
       "      <th>Size</th>\n",
       "      <th>Color</th>\n",
       "      <th>Material</th>\n",
       "      <th>Price (USD)</th>\n",
       "    </tr>\n",
       "  </thead>\n",
       "  <tbody>\n",
       "    <tr>\n",
       "      <th>0</th>\n",
       "      <td>False</td>\n",
       "      <td>False</td>\n",
       "      <td>False</td>\n",
       "      <td>False</td>\n",
       "      <td>False</td>\n",
       "      <td>False</td>\n",
       "      <td>False</td>\n",
       "      <td>False</td>\n",
       "    </tr>\n",
       "    <tr>\n",
       "      <th>1</th>\n",
       "      <td>False</td>\n",
       "      <td>False</td>\n",
       "      <td>False</td>\n",
       "      <td>False</td>\n",
       "      <td>False</td>\n",
       "      <td>False</td>\n",
       "      <td>False</td>\n",
       "      <td>False</td>\n",
       "    </tr>\n",
       "    <tr>\n",
       "      <th>2</th>\n",
       "      <td>False</td>\n",
       "      <td>False</td>\n",
       "      <td>False</td>\n",
       "      <td>False</td>\n",
       "      <td>False</td>\n",
       "      <td>False</td>\n",
       "      <td>False</td>\n",
       "      <td>False</td>\n",
       "    </tr>\n",
       "    <tr>\n",
       "      <th>3</th>\n",
       "      <td>False</td>\n",
       "      <td>False</td>\n",
       "      <td>False</td>\n",
       "      <td>False</td>\n",
       "      <td>False</td>\n",
       "      <td>False</td>\n",
       "      <td>False</td>\n",
       "      <td>False</td>\n",
       "    </tr>\n",
       "    <tr>\n",
       "      <th>4</th>\n",
       "      <td>False</td>\n",
       "      <td>False</td>\n",
       "      <td>False</td>\n",
       "      <td>False</td>\n",
       "      <td>False</td>\n",
       "      <td>False</td>\n",
       "      <td>False</td>\n",
       "      <td>False</td>\n",
       "    </tr>\n",
       "    <tr>\n",
       "      <th>...</th>\n",
       "      <td>...</td>\n",
       "      <td>...</td>\n",
       "      <td>...</td>\n",
       "      <td>...</td>\n",
       "      <td>...</td>\n",
       "      <td>...</td>\n",
       "      <td>...</td>\n",
       "      <td>...</td>\n",
       "    </tr>\n",
       "    <tr>\n",
       "      <th>1001</th>\n",
       "      <td>False</td>\n",
       "      <td>False</td>\n",
       "      <td>False</td>\n",
       "      <td>False</td>\n",
       "      <td>False</td>\n",
       "      <td>False</td>\n",
       "      <td>False</td>\n",
       "      <td>False</td>\n",
       "    </tr>\n",
       "    <tr>\n",
       "      <th>1002</th>\n",
       "      <td>False</td>\n",
       "      <td>False</td>\n",
       "      <td>False</td>\n",
       "      <td>False</td>\n",
       "      <td>False</td>\n",
       "      <td>False</td>\n",
       "      <td>False</td>\n",
       "      <td>False</td>\n",
       "    </tr>\n",
       "    <tr>\n",
       "      <th>1003</th>\n",
       "      <td>False</td>\n",
       "      <td>False</td>\n",
       "      <td>False</td>\n",
       "      <td>False</td>\n",
       "      <td>False</td>\n",
       "      <td>False</td>\n",
       "      <td>False</td>\n",
       "      <td>False</td>\n",
       "    </tr>\n",
       "    <tr>\n",
       "      <th>1004</th>\n",
       "      <td>False</td>\n",
       "      <td>False</td>\n",
       "      <td>False</td>\n",
       "      <td>False</td>\n",
       "      <td>False</td>\n",
       "      <td>False</td>\n",
       "      <td>False</td>\n",
       "      <td>False</td>\n",
       "    </tr>\n",
       "    <tr>\n",
       "      <th>1005</th>\n",
       "      <td>False</td>\n",
       "      <td>False</td>\n",
       "      <td>False</td>\n",
       "      <td>False</td>\n",
       "      <td>False</td>\n",
       "      <td>False</td>\n",
       "      <td>False</td>\n",
       "      <td>False</td>\n",
       "    </tr>\n",
       "  </tbody>\n",
       "</table>\n",
       "<p>1006 rows × 8 columns</p>\n",
       "</div>"
      ],
      "text/plain": [
       "      Brand  Model   Type  Gender   Size  Color  Material  Price (USD)\n",
       "0     False  False  False   False  False  False     False        False\n",
       "1     False  False  False   False  False  False     False        False\n",
       "2     False  False  False   False  False  False     False        False\n",
       "3     False  False  False   False  False  False     False        False\n",
       "4     False  False  False   False  False  False     False        False\n",
       "...     ...    ...    ...     ...    ...    ...       ...          ...\n",
       "1001  False  False  False   False  False  False     False        False\n",
       "1002  False  False  False   False  False  False     False        False\n",
       "1003  False  False  False   False  False  False     False        False\n",
       "1004  False  False  False   False  False  False     False        False\n",
       "1005  False  False  False   False  False  False     False        False\n",
       "\n",
       "[1006 rows x 8 columns]"
      ]
     },
     "execution_count": 12,
     "metadata": {},
     "output_type": "execute_result"
    }
   ],
   "source": [
    "df.isnull()"
   ]
  },
  {
   "cell_type": "code",
   "execution_count": 21,
   "id": "cba6c7da-32c5-4ccf-be94-22a2910ee839",
   "metadata": {},
   "outputs": [],
   "source": [
    "df['Sex']=df.Gender.map({'Men':0,\n",
    "                         'Women':1})"
   ]
  },
  {
   "cell_type": "code",
   "execution_count": 22,
   "id": "7081b06b-52c7-461d-be88-bb57f82ca52b",
   "metadata": {},
   "outputs": [
    {
     "data": {
      "text/html": [
       "<div>\n",
       "<style scoped>\n",
       "    .dataframe tbody tr th:only-of-type {\n",
       "        vertical-align: middle;\n",
       "    }\n",
       "\n",
       "    .dataframe tbody tr th {\n",
       "        vertical-align: top;\n",
       "    }\n",
       "\n",
       "    .dataframe thead th {\n",
       "        text-align: right;\n",
       "    }\n",
       "</style>\n",
       "<table border=\"1\" class=\"dataframe\">\n",
       "  <thead>\n",
       "    <tr style=\"text-align: right;\">\n",
       "      <th></th>\n",
       "      <th>Brand</th>\n",
       "      <th>Model</th>\n",
       "      <th>Type</th>\n",
       "      <th>Gender</th>\n",
       "      <th>Size</th>\n",
       "      <th>Color</th>\n",
       "      <th>Material</th>\n",
       "      <th>Price (USD)</th>\n",
       "      <th>Sex</th>\n",
       "    </tr>\n",
       "  </thead>\n",
       "  <tbody>\n",
       "    <tr>\n",
       "      <th>0</th>\n",
       "      <td>Nike</td>\n",
       "      <td>Air Jordan 1</td>\n",
       "      <td>Basketball</td>\n",
       "      <td>Men</td>\n",
       "      <td>US 10</td>\n",
       "      <td>Red/Black</td>\n",
       "      <td>Leather</td>\n",
       "      <td>$170.00</td>\n",
       "      <td>0</td>\n",
       "    </tr>\n",
       "    <tr>\n",
       "      <th>1</th>\n",
       "      <td>Adidas</td>\n",
       "      <td>Ultra Boost 21</td>\n",
       "      <td>Running</td>\n",
       "      <td>Men</td>\n",
       "      <td>US 9.5</td>\n",
       "      <td>Black</td>\n",
       "      <td>Primeknit</td>\n",
       "      <td>$180.00</td>\n",
       "      <td>0</td>\n",
       "    </tr>\n",
       "    <tr>\n",
       "      <th>2</th>\n",
       "      <td>Reebok</td>\n",
       "      <td>Classic Leather</td>\n",
       "      <td>Casual</td>\n",
       "      <td>Men</td>\n",
       "      <td>US 11</td>\n",
       "      <td>White</td>\n",
       "      <td>Leather</td>\n",
       "      <td>$75.00</td>\n",
       "      <td>0</td>\n",
       "    </tr>\n",
       "    <tr>\n",
       "      <th>3</th>\n",
       "      <td>Converse</td>\n",
       "      <td>Chuck Taylor</td>\n",
       "      <td>Casual</td>\n",
       "      <td>Women</td>\n",
       "      <td>US 8</td>\n",
       "      <td>Navy</td>\n",
       "      <td>Canvas</td>\n",
       "      <td>$55.00</td>\n",
       "      <td>1</td>\n",
       "    </tr>\n",
       "    <tr>\n",
       "      <th>4</th>\n",
       "      <td>Puma</td>\n",
       "      <td>Future Rider</td>\n",
       "      <td>Lifestyle</td>\n",
       "      <td>Women</td>\n",
       "      <td>US 7.5</td>\n",
       "      <td>Pink</td>\n",
       "      <td>Mesh</td>\n",
       "      <td>$80.00</td>\n",
       "      <td>1</td>\n",
       "    </tr>\n",
       "    <tr>\n",
       "      <th>...</th>\n",
       "      <td>...</td>\n",
       "      <td>...</td>\n",
       "      <td>...</td>\n",
       "      <td>...</td>\n",
       "      <td>...</td>\n",
       "      <td>...</td>\n",
       "      <td>...</td>\n",
       "      <td>...</td>\n",
       "      <td>...</td>\n",
       "    </tr>\n",
       "    <tr>\n",
       "      <th>1001</th>\n",
       "      <td>New Balance</td>\n",
       "      <td>Fresh Foam 880v11</td>\n",
       "      <td>Running</td>\n",
       "      <td>Women</td>\n",
       "      <td>US 10</td>\n",
       "      <td>Grey</td>\n",
       "      <td>Mesh</td>\n",
       "      <td>$130.00</td>\n",
       "      <td>1</td>\n",
       "    </tr>\n",
       "    <tr>\n",
       "      <th>1002</th>\n",
       "      <td>Asics</td>\n",
       "      <td>Gel-Kayano Lite</td>\n",
       "      <td>Running</td>\n",
       "      <td>Men</td>\n",
       "      <td>US 9.5</td>\n",
       "      <td>Black</td>\n",
       "      <td>Mesh</td>\n",
       "      <td>$160.00</td>\n",
       "      <td>0</td>\n",
       "    </tr>\n",
       "    <tr>\n",
       "      <th>1003</th>\n",
       "      <td>Fila</td>\n",
       "      <td>Venom 94</td>\n",
       "      <td>Fashion</td>\n",
       "      <td>Women</td>\n",
       "      <td>US 7.5</td>\n",
       "      <td>White</td>\n",
       "      <td>Leather</td>\n",
       "      <td>$70.00</td>\n",
       "      <td>1</td>\n",
       "    </tr>\n",
       "    <tr>\n",
       "      <th>1004</th>\n",
       "      <td>Skechers</td>\n",
       "      <td>Summits</td>\n",
       "      <td>Training</td>\n",
       "      <td>Men</td>\n",
       "      <td>US 8</td>\n",
       "      <td>Grey</td>\n",
       "      <td>Mesh</td>\n",
       "      <td>$55.00</td>\n",
       "      <td>0</td>\n",
       "    </tr>\n",
       "    <tr>\n",
       "      <th>1005</th>\n",
       "      <td>Nike</td>\n",
       "      <td>Air Max 97</td>\n",
       "      <td>Running</td>\n",
       "      <td>Women</td>\n",
       "      <td>US 7.5</td>\n",
       "      <td>Silver</td>\n",
       "      <td>Leather</td>\n",
       "      <td>$170.00</td>\n",
       "      <td>1</td>\n",
       "    </tr>\n",
       "  </tbody>\n",
       "</table>\n",
       "<p>1006 rows × 9 columns</p>\n",
       "</div>"
      ],
      "text/plain": [
       "            Brand              Model        Type Gender    Size      Color  \\\n",
       "0            Nike       Air Jordan 1  Basketball    Men   US 10  Red/Black   \n",
       "1          Adidas     Ultra Boost 21     Running    Men  US 9.5      Black   \n",
       "2          Reebok    Classic Leather      Casual    Men   US 11      White   \n",
       "3        Converse       Chuck Taylor      Casual  Women    US 8       Navy   \n",
       "4            Puma       Future Rider   Lifestyle  Women  US 7.5       Pink   \n",
       "...           ...                ...         ...    ...     ...        ...   \n",
       "1001  New Balance  Fresh Foam 880v11     Running  Women   US 10       Grey   \n",
       "1002        Asics    Gel-Kayano Lite     Running    Men  US 9.5      Black   \n",
       "1003         Fila           Venom 94     Fashion  Women  US 7.5      White   \n",
       "1004     Skechers            Summits    Training    Men    US 8       Grey   \n",
       "1005         Nike         Air Max 97     Running  Women  US 7.5     Silver   \n",
       "\n",
       "       Material Price (USD)  Sex  \n",
       "0       Leather    $170.00     0  \n",
       "1     Primeknit    $180.00     0  \n",
       "2       Leather     $75.00     0  \n",
       "3        Canvas     $55.00     1  \n",
       "4          Mesh     $80.00     1  \n",
       "...         ...         ...  ...  \n",
       "1001       Mesh    $130.00     1  \n",
       "1002       Mesh    $160.00     0  \n",
       "1003    Leather     $70.00     1  \n",
       "1004       Mesh     $55.00     0  \n",
       "1005    Leather    $170.00     1  \n",
       "\n",
       "[1006 rows x 9 columns]"
      ]
     },
     "execution_count": 22,
     "metadata": {},
     "output_type": "execute_result"
    }
   ],
   "source": [
    "df"
   ]
  },
  {
   "cell_type": "code",
   "execution_count": 23,
   "id": "99c8373f-cb10-4672-bbeb-2eadc80778ac",
   "metadata": {},
   "outputs": [
    {
     "data": {
      "text/plain": [
       "0       0\n",
       "1       0\n",
       "2       0\n",
       "3       1\n",
       "4       1\n",
       "       ..\n",
       "1001    1\n",
       "1002    0\n",
       "1003    1\n",
       "1004    0\n",
       "1005    1\n",
       "Name: Sex, Length: 1006, dtype: int64"
      ]
     },
     "execution_count": 23,
     "metadata": {},
     "output_type": "execute_result"
    }
   ],
   "source": [
    "df['Sex']"
   ]
  },
  {
   "cell_type": "code",
   "execution_count": 38,
   "id": "ae845908-5c91-4cad-b27f-78deb6ffe084",
   "metadata": {},
   "outputs": [
    {
     "name": "stderr",
     "output_type": "stream",
     "text": [
      "/tmp/ipykernel_1104/1894384470.py:1: FutureWarning: The default value of regex will change from True to False in a future version.\n",
      "  df['Price (USD)']=df['Price (USD)'].str.replace('[/$/]',\"\").astype(float)\n"
     ]
    }
   ],
   "source": [
    "df['Price (USD)']=df['Price (USD)'].str.replace('[/$/]',\"\").astype(float)"
   ]
  },
  {
   "cell_type": "code",
   "execution_count": 40,
   "id": "9e3c6df2-829c-4202-bc1a-d720875ee6a6",
   "metadata": {},
   "outputs": [
    {
     "data": {
      "text/plain": [
       "0       170.0\n",
       "1       180.0\n",
       "2        75.0\n",
       "3        55.0\n",
       "4        80.0\n",
       "        ...  \n",
       "1001    130.0\n",
       "1002    160.0\n",
       "1003     70.0\n",
       "1004     55.0\n",
       "1005    170.0\n",
       "Name: Price (USD), Length: 1006, dtype: float64"
      ]
     },
     "execution_count": 40,
     "metadata": {},
     "output_type": "execute_result"
    }
   ],
   "source": [
    "df['Price (USD)']"
   ]
  },
  {
   "cell_type": "code",
   "execution_count": 41,
   "id": "8cc32af8-3725-41a6-8c62-9d5a6b6fea91",
   "metadata": {},
   "outputs": [
    {
     "data": {
      "text/plain": [
       "101.30614314115307"
      ]
     },
     "execution_count": 41,
     "metadata": {},
     "output_type": "execute_result"
    }
   ],
   "source": [
    "df['Price (USD)'].mean()"
   ]
  },
  {
   "cell_type": "code",
   "execution_count": 52,
   "id": "88c4641b-b117-4c22-adf1-ceae7f1da6e6",
   "metadata": {},
   "outputs": [],
   "source": [
    "def check(x):\n",
    "    for i in df['Price (USD)']:\n",
    "        if i<=101.306:\n",
    "            return 'Cheap'\n",
    "        else:\n",
    "            return 'Expensive'"
   ]
  },
  {
   "cell_type": "code",
   "execution_count": 53,
   "id": "2576665c-63c8-4552-8e8a-3ed320802e42",
   "metadata": {},
   "outputs": [],
   "source": [
    "df['Category']=df['Price (USD)'].apply(check)"
   ]
  },
  {
   "cell_type": "code",
   "execution_count": 54,
   "id": "fd082eca-15d1-4e8c-9b14-acd4a19fb3db",
   "metadata": {},
   "outputs": [
    {
     "data": {
      "text/html": [
       "<div>\n",
       "<style scoped>\n",
       "    .dataframe tbody tr th:only-of-type {\n",
       "        vertical-align: middle;\n",
       "    }\n",
       "\n",
       "    .dataframe tbody tr th {\n",
       "        vertical-align: top;\n",
       "    }\n",
       "\n",
       "    .dataframe thead th {\n",
       "        text-align: right;\n",
       "    }\n",
       "</style>\n",
       "<table border=\"1\" class=\"dataframe\">\n",
       "  <thead>\n",
       "    <tr style=\"text-align: right;\">\n",
       "      <th></th>\n",
       "      <th>Brand</th>\n",
       "      <th>Model</th>\n",
       "      <th>Type</th>\n",
       "      <th>Gender</th>\n",
       "      <th>Size</th>\n",
       "      <th>Color</th>\n",
       "      <th>Material</th>\n",
       "      <th>Price (USD)</th>\n",
       "      <th>Sex</th>\n",
       "      <th>Category</th>\n",
       "    </tr>\n",
       "  </thead>\n",
       "  <tbody>\n",
       "    <tr>\n",
       "      <th>0</th>\n",
       "      <td>Nike</td>\n",
       "      <td>Air Jordan 1</td>\n",
       "      <td>Basketball</td>\n",
       "      <td>Men</td>\n",
       "      <td>US 10</td>\n",
       "      <td>Red/Black</td>\n",
       "      <td>Leather</td>\n",
       "      <td>170.0</td>\n",
       "      <td>0</td>\n",
       "      <td>Expensive</td>\n",
       "    </tr>\n",
       "    <tr>\n",
       "      <th>1</th>\n",
       "      <td>Adidas</td>\n",
       "      <td>Ultra Boost 21</td>\n",
       "      <td>Running</td>\n",
       "      <td>Men</td>\n",
       "      <td>US 9.5</td>\n",
       "      <td>Black</td>\n",
       "      <td>Primeknit</td>\n",
       "      <td>180.0</td>\n",
       "      <td>0</td>\n",
       "      <td>Expensive</td>\n",
       "    </tr>\n",
       "    <tr>\n",
       "      <th>2</th>\n",
       "      <td>Reebok</td>\n",
       "      <td>Classic Leather</td>\n",
       "      <td>Casual</td>\n",
       "      <td>Men</td>\n",
       "      <td>US 11</td>\n",
       "      <td>White</td>\n",
       "      <td>Leather</td>\n",
       "      <td>75.0</td>\n",
       "      <td>0</td>\n",
       "      <td>Expensive</td>\n",
       "    </tr>\n",
       "    <tr>\n",
       "      <th>3</th>\n",
       "      <td>Converse</td>\n",
       "      <td>Chuck Taylor</td>\n",
       "      <td>Casual</td>\n",
       "      <td>Women</td>\n",
       "      <td>US 8</td>\n",
       "      <td>Navy</td>\n",
       "      <td>Canvas</td>\n",
       "      <td>55.0</td>\n",
       "      <td>1</td>\n",
       "      <td>Expensive</td>\n",
       "    </tr>\n",
       "    <tr>\n",
       "      <th>4</th>\n",
       "      <td>Puma</td>\n",
       "      <td>Future Rider</td>\n",
       "      <td>Lifestyle</td>\n",
       "      <td>Women</td>\n",
       "      <td>US 7.5</td>\n",
       "      <td>Pink</td>\n",
       "      <td>Mesh</td>\n",
       "      <td>80.0</td>\n",
       "      <td>1</td>\n",
       "      <td>Expensive</td>\n",
       "    </tr>\n",
       "    <tr>\n",
       "      <th>...</th>\n",
       "      <td>...</td>\n",
       "      <td>...</td>\n",
       "      <td>...</td>\n",
       "      <td>...</td>\n",
       "      <td>...</td>\n",
       "      <td>...</td>\n",
       "      <td>...</td>\n",
       "      <td>...</td>\n",
       "      <td>...</td>\n",
       "      <td>...</td>\n",
       "    </tr>\n",
       "    <tr>\n",
       "      <th>1001</th>\n",
       "      <td>New Balance</td>\n",
       "      <td>Fresh Foam 880v11</td>\n",
       "      <td>Running</td>\n",
       "      <td>Women</td>\n",
       "      <td>US 10</td>\n",
       "      <td>Grey</td>\n",
       "      <td>Mesh</td>\n",
       "      <td>130.0</td>\n",
       "      <td>1</td>\n",
       "      <td>Expensive</td>\n",
       "    </tr>\n",
       "    <tr>\n",
       "      <th>1002</th>\n",
       "      <td>Asics</td>\n",
       "      <td>Gel-Kayano Lite</td>\n",
       "      <td>Running</td>\n",
       "      <td>Men</td>\n",
       "      <td>US 9.5</td>\n",
       "      <td>Black</td>\n",
       "      <td>Mesh</td>\n",
       "      <td>160.0</td>\n",
       "      <td>0</td>\n",
       "      <td>Expensive</td>\n",
       "    </tr>\n",
       "    <tr>\n",
       "      <th>1003</th>\n",
       "      <td>Fila</td>\n",
       "      <td>Venom 94</td>\n",
       "      <td>Fashion</td>\n",
       "      <td>Women</td>\n",
       "      <td>US 7.5</td>\n",
       "      <td>White</td>\n",
       "      <td>Leather</td>\n",
       "      <td>70.0</td>\n",
       "      <td>1</td>\n",
       "      <td>Expensive</td>\n",
       "    </tr>\n",
       "    <tr>\n",
       "      <th>1004</th>\n",
       "      <td>Skechers</td>\n",
       "      <td>Summits</td>\n",
       "      <td>Training</td>\n",
       "      <td>Men</td>\n",
       "      <td>US 8</td>\n",
       "      <td>Grey</td>\n",
       "      <td>Mesh</td>\n",
       "      <td>55.0</td>\n",
       "      <td>0</td>\n",
       "      <td>Expensive</td>\n",
       "    </tr>\n",
       "    <tr>\n",
       "      <th>1005</th>\n",
       "      <td>Nike</td>\n",
       "      <td>Air Max 97</td>\n",
       "      <td>Running</td>\n",
       "      <td>Women</td>\n",
       "      <td>US 7.5</td>\n",
       "      <td>Silver</td>\n",
       "      <td>Leather</td>\n",
       "      <td>170.0</td>\n",
       "      <td>1</td>\n",
       "      <td>Expensive</td>\n",
       "    </tr>\n",
       "  </tbody>\n",
       "</table>\n",
       "<p>1006 rows × 10 columns</p>\n",
       "</div>"
      ],
      "text/plain": [
       "            Brand              Model        Type Gender    Size      Color  \\\n",
       "0            Nike       Air Jordan 1  Basketball    Men   US 10  Red/Black   \n",
       "1          Adidas     Ultra Boost 21     Running    Men  US 9.5      Black   \n",
       "2          Reebok    Classic Leather      Casual    Men   US 11      White   \n",
       "3        Converse       Chuck Taylor      Casual  Women    US 8       Navy   \n",
       "4            Puma       Future Rider   Lifestyle  Women  US 7.5       Pink   \n",
       "...           ...                ...         ...    ...     ...        ...   \n",
       "1001  New Balance  Fresh Foam 880v11     Running  Women   US 10       Grey   \n",
       "1002        Asics    Gel-Kayano Lite     Running    Men  US 9.5      Black   \n",
       "1003         Fila           Venom 94     Fashion  Women  US 7.5      White   \n",
       "1004     Skechers            Summits    Training    Men    US 8       Grey   \n",
       "1005         Nike         Air Max 97     Running  Women  US 7.5     Silver   \n",
       "\n",
       "       Material  Price (USD)  Sex   Category  \n",
       "0       Leather        170.0    0  Expensive  \n",
       "1     Primeknit        180.0    0  Expensive  \n",
       "2       Leather         75.0    0  Expensive  \n",
       "3        Canvas         55.0    1  Expensive  \n",
       "4          Mesh         80.0    1  Expensive  \n",
       "...         ...          ...  ...        ...  \n",
       "1001       Mesh        130.0    1  Expensive  \n",
       "1002       Mesh        160.0    0  Expensive  \n",
       "1003    Leather         70.0    1  Expensive  \n",
       "1004       Mesh         55.0    0  Expensive  \n",
       "1005    Leather        170.0    1  Expensive  \n",
       "\n",
       "[1006 rows x 10 columns]"
      ]
     },
     "execution_count": 54,
     "metadata": {},
     "output_type": "execute_result"
    }
   ],
   "source": [
    "df"
   ]
  },
  {
   "cell_type": "markdown",
   "id": "bd9df6af-8fb7-4f89-8d69-baadaabe3ba4",
   "metadata": {},
   "source": [
    "2"
   ]
  },
  {
   "cell_type": "code",
   "execution_count": 57,
   "id": "1db96590-5fc4-4cab-81e2-586269c21cfb",
   "metadata": {},
   "outputs": [],
   "source": [
    "df1=pd.DataFrame({\"Name\":['Rochak','Shyam','Hari'],\n",
    "                 'Age':[12,23,24]},index=['A','B','C'])"
   ]
  },
  {
   "cell_type": "code",
   "execution_count": 58,
   "id": "1aac3595-25f7-4ad2-b20d-c8e146980b51",
   "metadata": {},
   "outputs": [
    {
     "data": {
      "text/html": [
       "<div>\n",
       "<style scoped>\n",
       "    .dataframe tbody tr th:only-of-type {\n",
       "        vertical-align: middle;\n",
       "    }\n",
       "\n",
       "    .dataframe tbody tr th {\n",
       "        vertical-align: top;\n",
       "    }\n",
       "\n",
       "    .dataframe thead th {\n",
       "        text-align: right;\n",
       "    }\n",
       "</style>\n",
       "<table border=\"1\" class=\"dataframe\">\n",
       "  <thead>\n",
       "    <tr style=\"text-align: right;\">\n",
       "      <th></th>\n",
       "      <th>Name</th>\n",
       "      <th>Age</th>\n",
       "    </tr>\n",
       "  </thead>\n",
       "  <tbody>\n",
       "    <tr>\n",
       "      <th>A</th>\n",
       "      <td>Rochak</td>\n",
       "      <td>12</td>\n",
       "    </tr>\n",
       "    <tr>\n",
       "      <th>B</th>\n",
       "      <td>Shyam</td>\n",
       "      <td>23</td>\n",
       "    </tr>\n",
       "    <tr>\n",
       "      <th>C</th>\n",
       "      <td>Hari</td>\n",
       "      <td>24</td>\n",
       "    </tr>\n",
       "  </tbody>\n",
       "</table>\n",
       "</div>"
      ],
      "text/plain": [
       "     Name  Age\n",
       "A  Rochak   12\n",
       "B   Shyam   23\n",
       "C    Hari   24"
      ]
     },
     "execution_count": 58,
     "metadata": {},
     "output_type": "execute_result"
    }
   ],
   "source": [
    "df1"
   ]
  },
  {
   "cell_type": "code",
   "execution_count": 66,
   "id": "d8918bed-6cf5-4346-a19d-7ba305f7b6d9",
   "metadata": {},
   "outputs": [
    {
     "data": {
      "text/plain": [
       "(3, 2)"
      ]
     },
     "execution_count": 66,
     "metadata": {},
     "output_type": "execute_result"
    }
   ],
   "source": [
    "df1.shape"
   ]
  },
  {
   "cell_type": "code",
   "execution_count": 67,
   "id": "676bee69-2885-4750-a1b3-fbd72cb89549",
   "metadata": {},
   "outputs": [],
   "source": [
    "df1['Index']=[1,3,5]"
   ]
  },
  {
   "cell_type": "code",
   "execution_count": 70,
   "id": "c18c7694-d43f-4f01-837c-b7511dc39cda",
   "metadata": {},
   "outputs": [],
   "source": [
    "df1.set_index(['Index'],inplace=True)"
   ]
  },
  {
   "cell_type": "markdown",
   "id": "c7a5d852-57ac-46ca-93c3-2566b227d998",
   "metadata": {},
   "source": [
    "3"
   ]
  },
  {
   "cell_type": "markdown",
   "id": "a0c56d22-8673-4ffd-a314-d5e987f21bb4",
   "metadata": {},
   "source": [
    "If df is the Given Data Frame then:\n",
    "df_2=df.head(3)\n",
    "def sum():\n",
    "    for i in df_2['Values']:\n",
    "        s=i+s\n",
    "    print(s)\n",
    "        "
   ]
  },
  {
   "cell_type": "markdown",
   "id": "419905c3-b86d-4786-b930-6e5d0df970be",
   "metadata": {},
   "source": [
    "4"
   ]
  },
  {
   "cell_type": "markdown",
   "id": "df91701d-3a9d-4eca-811f-6cddcd49a566",
   "metadata": {},
   "source": [
    "df['Word_Count']=df['Text'].apply(len)"
   ]
  },
  {
   "cell_type": "markdown",
   "id": "b6dd482f-7ac0-4757-9c95-57a0008fb54e",
   "metadata": {},
   "source": [
    "5"
   ]
  },
  {
   "cell_type": "markdown",
   "id": "d7262b8e-02d4-410f-8823-103c6b3d64a5",
   "metadata": {},
   "source": [
    "df.shape gives the order of the dataframe where as"
   ]
  },
  {
   "cell_type": "markdown",
   "id": "29e390fc-c8c2-4a5a-954c-c35e8b881510",
   "metadata": {},
   "source": [
    "df.size gives the total entities are there in the dataframe . It gives the product of that order"
   ]
  },
  {
   "cell_type": "markdown",
   "id": "d26033e1-a823-472c-a94f-288673226797",
   "metadata": {},
   "source": [
    "6"
   ]
  },
  {
   "cell_type": "markdown",
   "id": "8b3518b1-0ac4-4c27-a101-87c565d6122e",
   "metadata": {},
   "source": [
    "pd.read_excel('name_of_the_file.excel')"
   ]
  },
  {
   "cell_type": "markdown",
   "id": "2ee0e28a-fd7d-47c3-9d0b-b1004063a763",
   "metadata": {},
   "source": [
    "7"
   ]
  },
  {
   "cell_type": "code",
   "execution_count": 72,
   "id": "669f2cc4-aefc-4a0f-b758-ac7fdcf4359c",
   "metadata": {},
   "outputs": [],
   "source": [
    "\n",
    "\n",
    "data = {'Name': ['Alice', 'Bob', 'Charlie'],\n",
    "        'Email': ['alice@example.com', 'bob@example.com', 'charlie@example.com']}\n",
    "df2 = pd.DataFrame(data)\n",
    "\n"
   ]
  },
  {
   "cell_type": "code",
   "execution_count": 74,
   "id": "ed805da7-ec1c-4a28-ac59-a87abcd2311b",
   "metadata": {},
   "outputs": [
    {
     "data": {
      "text/html": [
       "<div>\n",
       "<style scoped>\n",
       "    .dataframe tbody tr th:only-of-type {\n",
       "        vertical-align: middle;\n",
       "    }\n",
       "\n",
       "    .dataframe tbody tr th {\n",
       "        vertical-align: top;\n",
       "    }\n",
       "\n",
       "    .dataframe thead th {\n",
       "        text-align: right;\n",
       "    }\n",
       "</style>\n",
       "<table border=\"1\" class=\"dataframe\">\n",
       "  <thead>\n",
       "    <tr style=\"text-align: right;\">\n",
       "      <th></th>\n",
       "      <th>Name</th>\n",
       "      <th>Email</th>\n",
       "    </tr>\n",
       "  </thead>\n",
       "  <tbody>\n",
       "    <tr>\n",
       "      <th>0</th>\n",
       "      <td>Alice</td>\n",
       "      <td>alice@example.com</td>\n",
       "    </tr>\n",
       "    <tr>\n",
       "      <th>1</th>\n",
       "      <td>Bob</td>\n",
       "      <td>bob@example.com</td>\n",
       "    </tr>\n",
       "    <tr>\n",
       "      <th>2</th>\n",
       "      <td>Charlie</td>\n",
       "      <td>charlie@example.com</td>\n",
       "    </tr>\n",
       "  </tbody>\n",
       "</table>\n",
       "</div>"
      ],
      "text/plain": [
       "      Name                Email\n",
       "0    Alice    alice@example.com\n",
       "1      Bob      bob@example.com\n",
       "2  Charlie  charlie@example.com"
      ]
     },
     "execution_count": 74,
     "metadata": {},
     "output_type": "execute_result"
    }
   ],
   "source": [
    "df2"
   ]
  },
  {
   "cell_type": "code",
   "execution_count": 81,
   "id": "f495e83c-5ad0-4814-879a-19c92c6b6376",
   "metadata": {},
   "outputs": [],
   "source": [
    "df2['User_name']=df2.Email.str.split('@').str.get(0)"
   ]
  },
  {
   "cell_type": "code",
   "execution_count": 82,
   "id": "6fd3b901-7ea7-46f4-9565-9ef72f702d93",
   "metadata": {},
   "outputs": [
    {
     "data": {
      "text/html": [
       "<div>\n",
       "<style scoped>\n",
       "    .dataframe tbody tr th:only-of-type {\n",
       "        vertical-align: middle;\n",
       "    }\n",
       "\n",
       "    .dataframe tbody tr th {\n",
       "        vertical-align: top;\n",
       "    }\n",
       "\n",
       "    .dataframe thead th {\n",
       "        text-align: right;\n",
       "    }\n",
       "</style>\n",
       "<table border=\"1\" class=\"dataframe\">\n",
       "  <thead>\n",
       "    <tr style=\"text-align: right;\">\n",
       "      <th></th>\n",
       "      <th>Name</th>\n",
       "      <th>Email</th>\n",
       "      <th>User_name</th>\n",
       "    </tr>\n",
       "  </thead>\n",
       "  <tbody>\n",
       "    <tr>\n",
       "      <th>0</th>\n",
       "      <td>Alice</td>\n",
       "      <td>alice@example.com</td>\n",
       "      <td>alice</td>\n",
       "    </tr>\n",
       "    <tr>\n",
       "      <th>1</th>\n",
       "      <td>Bob</td>\n",
       "      <td>bob@example.com</td>\n",
       "      <td>bob</td>\n",
       "    </tr>\n",
       "    <tr>\n",
       "      <th>2</th>\n",
       "      <td>Charlie</td>\n",
       "      <td>charlie@example.com</td>\n",
       "      <td>charlie</td>\n",
       "    </tr>\n",
       "  </tbody>\n",
       "</table>\n",
       "</div>"
      ],
      "text/plain": [
       "      Name                Email User_name\n",
       "0    Alice    alice@example.com     alice\n",
       "1      Bob      bob@example.com       bob\n",
       "2  Charlie  charlie@example.com   charlie"
      ]
     },
     "execution_count": 82,
     "metadata": {},
     "output_type": "execute_result"
    }
   ],
   "source": [
    "df2"
   ]
  },
  {
   "cell_type": "markdown",
   "id": "5242eef6-e23a-4a46-b607-cc2bf862dad6",
   "metadata": {},
   "source": [
    "9"
   ]
  },
  {
   "cell_type": "markdown",
   "id": "6826a560-3b54-4b0e-914c-546fad21691c",
   "metadata": {},
   "source": [
    "df['Values'].mean()\n"
   ]
  },
  {
   "cell_type": "markdown",
   "id": "f67cc2bf-5404-476a-b00e-a3ef6e5a2c92",
   "metadata": {},
   "source": [
    "df['Values'].median()\n"
   ]
  },
  {
   "cell_type": "markdown",
   "id": "c788f070-5485-4203-a576-cfbcd263f6d1",
   "metadata": {},
   "source": [
    "df['Values'].std()"
   ]
  },
  {
   "cell_type": "markdown",
   "id": "f6adbd2a-f422-4399-b09a-bf25a66f4085",
   "metadata": {},
   "source": [
    "10"
   ]
  },
  {
   "cell_type": "markdown",
   "id": "e86f5c8f-eea0-4a80-b3c8-41d498cb7f57",
   "metadata": {},
   "source": [
    "df['MovingAverage']=df['Date'].rolling(window=7).mean()"
   ]
  },
  {
   "cell_type": "markdown",
   "id": "5a4c6601-2980-4d42-be77-809d72201c33",
   "metadata": {},
   "source": [
    "12"
   ]
  },
  {
   "cell_type": "markdown",
   "id": "e03e0f54-671a-4ab0-8fc8-0827e0e13b21",
   "metadata": {},
   "source": [
    "filt=(df['Date']>='2023-01-01')&(df['Date']<='2023-01-31')\n",
    "df.loc[filt]"
   ]
  },
  {
   "cell_type": "markdown",
   "id": "5fa059dd-94b9-4fe8-adae-826f1d54ffd4",
   "metadata": {},
   "source": [
    "13"
   ]
  },
  {
   "cell_type": "markdown",
   "id": "1232bbb8-53cf-48a3-87bb-2a4b02ab01eb",
   "metadata": {},
   "source": [
    "For that you have to import pandas"
   ]
  },
  {
   "cell_type": "code",
   "execution_count": null,
   "id": "513013e3-a549-4c19-834c-44bd46db0e65",
   "metadata": {},
   "outputs": [],
   "source": []
  }
 ],
 "metadata": {
  "kernelspec": {
   "display_name": "Python 3 (ipykernel)",
   "language": "python",
   "name": "python3"
  },
  "language_info": {
   "codemirror_mode": {
    "name": "ipython",
    "version": 3
   },
   "file_extension": ".py",
   "mimetype": "text/x-python",
   "name": "python",
   "nbconvert_exporter": "python",
   "pygments_lexer": "ipython3",
   "version": "3.10.8"
  }
 },
 "nbformat": 4,
 "nbformat_minor": 5
}
