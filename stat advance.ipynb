{
 "cells": [
  {
   "cell_type": "markdown",
   "id": "a229a82a",
   "metadata": {},
   "source": [
    "# 1.What is the Probability density function?"
   ]
  },
  {
   "cell_type": "markdown",
   "id": "b5fa70b7",
   "metadata": {},
   "source": [
    "Probabiltiy density function in statistics is a function whose integral gives the \n",
    "probability associated with a continuous variable."
   ]
  },
  {
   "cell_type": "markdown",
   "id": "f2c148c5",
   "metadata": {},
   "source": [
    "# 2.What are the types of Probability distribution?"
   ]
  },
  {
   "cell_type": "markdown",
   "id": "0fdce204",
   "metadata": {},
   "source": [
    "The types of Probability distribution are:\n",
    "    \n",
    "    1)Discrete Distributions:\n",
    "        \n",
    "        a)Bernouli Distribution:\n",
    "            \n",
    "            If the out comes are only two then it is called Binomial Distribution.\n",
    "            \n",
    "        b)Binomial Distribution:\n",
    "            \n",
    "            If the event giving outcomes like Bernouli Distribution are conducted iteratively then, it is called Binomial\n",
    "            \n",
    "             Distribution.\n",
    "                \n",
    "        c)Poisson Distribution:\n",
    "            \n",
    "            This distribution gives how unusual an event frequency is for a given interval.\n",
    "            \n",
    "            \n",
    "    2)Continuous Distributions:\n",
    "        \n",
    "        a)Normal Distributions\n",
    "        \n",
    "        b)Chi-Squared Distributions\n",
    "        \n",
    "        c)Exponential Distributions\n",
    "        \n",
    "        d)Logistic Distributions"
   ]
  },
  {
   "cell_type": "markdown",
   "id": "6bdbc5bf",
   "metadata": {},
   "source": [
    "# 3.Write a Python function to calculate the probability density function of a normal distribution with given mean and standard deviation at a given point."
   ]
  },
  {
   "cell_type": "code",
   "execution_count": 1,
   "id": "b21c24dd",
   "metadata": {},
   "outputs": [],
   "source": [
    "import pandas as pd\n",
    "import numpy as np\n",
    "import matplotlib.pyplot as plt\n",
    "import statistics as stat"
   ]
  },
  {
   "cell_type": "code",
   "execution_count": 2,
   "id": "9d812ba0",
   "metadata": {},
   "outputs": [],
   "source": [
    "df=pd.read_csv('CompanyABCProfit.csv')"
   ]
  },
  {
   "cell_type": "code",
   "execution_count": 3,
   "id": "866dd970",
   "metadata": {},
   "outputs": [
    {
     "data": {
      "text/html": [
       "<div>\n",
       "<style scoped>\n",
       "    .dataframe tbody tr th:only-of-type {\n",
       "        vertical-align: middle;\n",
       "    }\n",
       "\n",
       "    .dataframe tbody tr th {\n",
       "        vertical-align: top;\n",
       "    }\n",
       "\n",
       "    .dataframe thead th {\n",
       "        text-align: right;\n",
       "    }\n",
       "</style>\n",
       "<table border=\"1\" class=\"dataframe\">\n",
       "  <thead>\n",
       "    <tr style=\"text-align: right;\">\n",
       "      <th></th>\n",
       "      <th>Year</th>\n",
       "      <th>Profit(Rs '000)</th>\n",
       "    </tr>\n",
       "  </thead>\n",
       "  <tbody>\n",
       "    <tr>\n",
       "      <th>0</th>\n",
       "      <td>1821</td>\n",
       "      <td>1645</td>\n",
       "    </tr>\n",
       "    <tr>\n",
       "      <th>1</th>\n",
       "      <td>1822</td>\n",
       "      <td>658</td>\n",
       "    </tr>\n",
       "    <tr>\n",
       "      <th>2</th>\n",
       "      <td>1823</td>\n",
       "      <td>1926</td>\n",
       "    </tr>\n",
       "    <tr>\n",
       "      <th>3</th>\n",
       "      <td>1824</td>\n",
       "      <td>865</td>\n",
       "    </tr>\n",
       "    <tr>\n",
       "      <th>4</th>\n",
       "      <td>1825</td>\n",
       "      <td>764</td>\n",
       "    </tr>\n",
       "    <tr>\n",
       "      <th>...</th>\n",
       "      <td>...</td>\n",
       "      <td>...</td>\n",
       "    </tr>\n",
       "    <tr>\n",
       "      <th>195</th>\n",
       "      <td>2016</td>\n",
       "      <td>988</td>\n",
       "    </tr>\n",
       "    <tr>\n",
       "      <th>196</th>\n",
       "      <td>2017</td>\n",
       "      <td>895</td>\n",
       "    </tr>\n",
       "    <tr>\n",
       "      <th>197</th>\n",
       "      <td>2018</td>\n",
       "      <td>-178</td>\n",
       "    </tr>\n",
       "    <tr>\n",
       "      <th>198</th>\n",
       "      <td>2019</td>\n",
       "      <td>543</td>\n",
       "    </tr>\n",
       "    <tr>\n",
       "      <th>199</th>\n",
       "      <td>2020</td>\n",
       "      <td>316</td>\n",
       "    </tr>\n",
       "  </tbody>\n",
       "</table>\n",
       "<p>200 rows × 2 columns</p>\n",
       "</div>"
      ],
      "text/plain": [
       "     Year  Profit(Rs '000)\n",
       "0    1821             1645\n",
       "1    1822              658\n",
       "2    1823             1926\n",
       "3    1824              865\n",
       "4    1825              764\n",
       "..    ...              ...\n",
       "195  2016              988\n",
       "196  2017              895\n",
       "197  2018             -178\n",
       "198  2019              543\n",
       "199  2020              316\n",
       "\n",
       "[200 rows x 2 columns]"
      ]
     },
     "execution_count": 3,
     "metadata": {},
     "output_type": "execute_result"
    }
   ],
   "source": [
    "df"
   ]
  },
  {
   "cell_type": "code",
   "execution_count": 4,
   "id": "15cb4e01",
   "metadata": {},
   "outputs": [
    {
     "data": {
      "text/plain": [
       "Index(['Year', 'Profit(Rs '000)'], dtype='object')"
      ]
     },
     "execution_count": 4,
     "metadata": {},
     "output_type": "execute_result"
    }
   ],
   "source": [
    "df.columns"
   ]
  },
  {
   "cell_type": "code",
   "execution_count": 5,
   "id": "c9de8ba6",
   "metadata": {},
   "outputs": [
    {
     "data": {
      "text/plain": [
       "(array([ 3.,  3., 12., 16., 29., 49., 36., 21., 18., 13.]),\n",
       " array([-413. , -166.2,   80.6,  327.4,  574.2,  821. , 1067.8, 1314.6,\n",
       "        1561.4, 1808.2, 2055. ]),\n",
       " <BarContainer object of 10 artists>)"
      ]
     },
     "execution_count": 5,
     "metadata": {},
     "output_type": "execute_result"
    },
    {
     "data": {
      "image/png": "[encoded data removed]",
      "text/plain": [
       "<Figure size 640x480 with 1 Axes>"
      ]
     },
     "metadata": {},
     "output_type": "display_data"
    }
   ],
   "source": [
    "plt.hist(df[\"Profit(Rs '000)\"])"
   ]
  },
  {
   "cell_type": "code",
   "execution_count": 6,
   "id": "ffb5dae8",
   "metadata": {},
   "outputs": [
    {
     "data": {
      "text/plain": [
       "Text(0, 0.5, 'Probability Density')"
      ]
     },
     "execution_count": 6,
     "metadata": {},
     "output_type": "execute_result"
    },
    {
     "data": {
      "image/png": "[encoded data removed]",
      "text/plain": [
       "<Figure size 640x480 with 1 Axes>"
      ]
     },
     "metadata": {},
     "output_type": "display_data"
    }
   ],
   "source": [
    "\n",
    " \n",
    "\n",
    " \n",
    "\n",
    "x = np.linspace(1,50,200)\n",
    " \n",
    "#\n",
    "def normal_dist(x , mean , sd):\n",
    "    prob_density = (np.pi*sd) * np.exp(-0.5*((x-mean)/sd)**2)\n",
    "    return prob_density\n",
    " \n",
    "\n",
    "mean = np.mean(x)\n",
    "sd = np.std(x)\n",
    " \n",
    "\n",
    "pdf = normal_dist(x,mean,sd)\n",
    " \n",
    "#Plotting the Results\n",
    "plt.plot(x,pdf , color = 'red')\n",
    "plt.xlabel('Data points')\n",
    "plt.ylabel('Probability Density')"
   ]
  },
  {
   "cell_type": "markdown",
   "id": "f67dbaf6",
   "metadata": {},
   "source": [
    "# Q4. What are the properties of Binomial distribution? Give two examples of events where binomialdistribution can be applied."
   ]
  },
  {
   "cell_type": "markdown",
   "id": "8df47e9b",
   "metadata": {},
   "source": [
    "The Properties of Binomial distribution are:\n",
    "    The outcomes of the event should be only two.\n",
    "    The events should be iterative.\n",
    "    \n",
    "Example of distribution are:\n",
    "\n",
    "1)Tossing of a coin 20 times \n",
    "\n",
    "2)Number of spam email received."
   ]
  },
  {
   "cell_type": "markdown",
   "id": "2de78a7e",
   "metadata": {},
   "source": [
    "# Q5.Generate a random sample of size 1000 from a binomial distribution with probability of success 0.4 and plot a histogram of the results using matplotlib."
   ]
  },
  {
   "cell_type": "code",
   "execution_count": 7,
   "id": "cd5f5883",
   "metadata": {},
   "outputs": [],
   "source": [
    "#Creating a random sample data \n",
    "sample=np.random.binomial(n=1,p=0.4,size=1000)"
   ]
  },
  {
   "cell_type": "code",
   "execution_count": 9,
   "id": "045af7cb",
   "metadata": {},
   "outputs": [
    {
     "data": {
      "text/plain": [
       "(array([591., 409.]),\n",
       " array([0. , 0.5, 1. ]),\n",
       " <BarContainer object of 2 artists>)"
      ]
     },
     "execution_count": 9,
     "metadata": {},
     "output_type": "execute_result"
    },
    {
     "data": {
      "image/png": "[encoded data removed]",
      "text/plain": [
       "<Figure size 640x480 with 1 Axes>"
      ]
     },
     "metadata": {},
     "output_type": "display_data"
    }
   ],
   "source": [
    "plt.hist(sample,bins=2,color='red')"
   ]
  },
  {
   "cell_type": "markdown",
   "id": "9df05ecc",
   "metadata": {},
   "source": [
    "# Q6. Write a Python function to calculate the cumulative distribution function of a Poisson distributionwith given mean at a given point."
   ]
  },
  {
   "cell_type": "code",
   "execution_count": 10,
   "id": "db552332",
   "metadata": {},
   "outputs": [],
   "source": [
    "import math\n",
    "\n",
    "def poisson_cdf(mean, k):\n",
    "    \"\"\"Calculate the cumulative distribution function of a Poisson distribution\n",
    "    with given mean at a given point.\n",
    "\n",
    "    Args:\n",
    "        mean (float): Mean of the Poisson distribution.\n",
    "        k (int): Point at which to calculate the CDF.\n",
    "\n",
    "    Returns:\n",
    "        float: The value of the CDF at the given point.\n",
    "    \"\"\"\n",
    "    cdf = 0\n",
    "    for i in range(k+1):\n",
    "        cdf += math.exp(-mean) * (mean ** i) / math.factorial(i)\n",
    "    return cdf\n"
   ]
  },
  {
   "cell_type": "markdown",
   "id": "41aaf840",
   "metadata": {},
   "source": [
    "# Q7. How Binomial distribution different from Poisson distribution?\n"
   ]
  },
  {
   "cell_type": "markdown",
   "id": "6c35601a",
   "metadata": {},
   "source": [
    "probability of binomial distribution is based on two possible outcomes.\n",
    "\n",
    "Probability of Poisson distribution is based on inifinitesimal possible outcomes.\n",
    "\n",
    "\n",
    "The number of trials in binomial distribtion is fixed.\n",
    "\n",
    "In poisson distribution the number of trials are infinite.\n",
    "\n"
   ]
  },
  {
   "cell_type": "markdown",
   "id": "9ffde673",
   "metadata": {},
   "source": [
    " # Q8. Generate a random sample of size 1000 from a Poisson distribution with mean 5 and calculate thesample mean and variance."
   ]
  },
  {
   "cell_type": "code",
   "execution_count": 12,
   "id": "e16e055e",
   "metadata": {},
   "outputs": [],
   "source": [
    "data=np.random.poisson(lam=5,size=1000)"
   ]
  },
  {
   "cell_type": "code",
   "execution_count": 13,
   "id": "5c318840",
   "metadata": {},
   "outputs": [],
   "source": [
    "mean=stat.mean(data)"
   ]
  },
  {
   "cell_type": "code",
   "execution_count": 14,
   "id": "caa282cc",
   "metadata": {},
   "outputs": [
    {
     "data": {
      "text/plain": [
       "5"
      ]
     },
     "execution_count": 14,
     "metadata": {},
     "output_type": "execute_result"
    }
   ],
   "source": [
    "mean"
   ]
  },
  {
   "cell_type": "code",
   "execution_count": 15,
   "id": "496c868a",
   "metadata": {},
   "outputs": [],
   "source": [
    "variance=stat.variance(data)"
   ]
  },
  {
   "cell_type": "code",
   "execution_count": 16,
   "id": "b246d48e",
   "metadata": {},
   "outputs": [
    {
     "data": {
      "text/plain": [
       "5"
      ]
     },
     "execution_count": 16,
     "metadata": {},
     "output_type": "execute_result"
    }
   ],
   "source": [
    "variance"
   ]
  },
  {
   "cell_type": "markdown",
   "id": "59c6fc0b",
   "metadata": {},
   "source": [
    "# Q9. How mean and variance are related in Binomial distribution and Poisson distribution?"
   ]
  },
  {
   "cell_type": "markdown",
   "id": "74ed244e",
   "metadata": {},
   "source": [
    "for binomial distribution mean>variance\n",
    "\n",
    "                                        \n",
    "for Poisson Distribution mean=variance"
   ]
  },
  {
   "cell_type": "markdown",
   "id": "0678e44c",
   "metadata": {},
   "source": [
    "# Q10. In normal distribution with respect to mean position, where does the least frequent data appear?"
   ]
  },
  {
   "cell_type": "markdown",
   "id": "a86d473c",
   "metadata": {},
   "source": [
    "The least frequent data in normal distribution  appears on the tails of the  data.\n",
    "Which are farthest from the mean."
   ]
  },
  {
   "cell_type": "code",
   "execution_count": null,
   "id": "580f0f80",
   "metadata": {},
   "outputs": [],
   "source": []
  }
 ],
 "metadata": {
  "kernelspec": {
   "display_name": "Python 3 (ipykernel)",
   "language": "python",
   "name": "python3"
  },
  "language_info": {
   "codemirror_mode": {
    "name": "ipython",
    "version": 3
   },
   "file_extension": ".py",
   "mimetype": "text/x-python",
   "name": "python",
   "nbconvert_exporter": "python",
   "pygments_lexer": "ipython3",
   "version": "3.9.13"
  }
 },
 "nbformat": 4,
 "nbformat_minor": 5
}
