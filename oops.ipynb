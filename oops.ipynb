{
 "cells": [
  {
   "cell_type": "markdown",
   "id": "fdf1c063-c874-4784-b056-2c746db1011c",
   "metadata": {},
   "source": [
    "## Q1. Create a vehicle class with an init method having instance variables as name_of_vehicle, max_speed and average_of_vehicle."
   ]
  },
  {
   "cell_type": "code",
   "execution_count": 45,
   "id": "f773c2dc-9342-4a24-91d4-67bf42b63335",
   "metadata": {},
   "outputs": [],
   "source": [
    "class Vehicle:\n",
    "    def __init__(self,name_of_vehicle,max_speed,average_of_vehicle):\n",
    "        self.name_of_vehicle=name_of_vehicle\n",
    "        self.max_speed=max_speed\n",
    "        self.agerage_of_vehicle=average_of_vehicle\n",
    "        \n",
    " "
   ]
  },
  {
   "cell_type": "code",
   "execution_count": 46,
   "id": "daa18a6c-2fa6-4dc3-b94b-c5758f7cf958",
   "metadata": {},
   "outputs": [],
   "source": [
    "mercedez=Vehicle('rolls_royal',220,50)"
   ]
  },
  {
   "cell_type": "code",
   "execution_count": 47,
   "id": "b4123ee1-6d02-4be8-bb83-d5e25a74300f",
   "metadata": {},
   "outputs": [
    {
     "data": {
      "text/plain": [
       "'rolls_royal'"
      ]
     },
     "execution_count": 47,
     "metadata": {},
     "output_type": "execute_result"
    }
   ],
   "source": [
    "mercedez.name_of_vehicle"
   ]
  },
  {
   "cell_type": "markdown",
   "id": "3038a8b9-0e96-402e-812e-a55d252e51eb",
   "metadata": {},
   "source": [
    "# Q2. Create a child class car from the vehicle class created in Que 1, which will inherit the vehicle class.\n",
    "# Create a method named seating_capacity which takes capacity as an argument and returns the name of\n",
    "# the vehicle and its seating capacity."
   ]
  },
  {
   "cell_type": "code",
   "execution_count": 41,
   "id": "e0994d3f-4ffb-4ae0-9852-0731334ce075",
   "metadata": {},
   "outputs": [],
   "source": [
    "class Car(Vehicle):\n",
    "    def seating_capacity(self,seating):\n",
    "        self.seating=seating\n",
    "        return f\"{self.name_of_vehicle}-{self.seating}\"    #returning both my_vehilce_name and seats\n",
    "\n",
    "    "
   ]
  },
  {
   "cell_type": "code",
   "execution_count": 42,
   "id": "8ad1c284-b916-4fe7-8cea-1ecbb9c38177",
   "metadata": {},
   "outputs": [],
   "source": [
    "cares=Car('mon',200,350)"
   ]
  },
  {
   "cell_type": "code",
   "execution_count": 43,
   "id": "9d922969-5601-45fa-983e-307c2a66e07e",
   "metadata": {},
   "outputs": [
    {
     "data": {
      "text/plain": [
       "'mon'"
      ]
     },
     "execution_count": 43,
     "metadata": {},
     "output_type": "execute_result"
    }
   ],
   "source": [
    "cares.name_of_vehicle"
   ]
  },
  {
   "cell_type": "code",
   "execution_count": 44,
   "id": "9239d0c7-b9cc-4066-b147-e2c74d393524",
   "metadata": {},
   "outputs": [
    {
     "data": {
      "text/plain": [
       "'mon-5'"
      ]
     },
     "execution_count": 44,
     "metadata": {},
     "output_type": "execute_result"
    }
   ],
   "source": [
    "cares.seating_capacity(5)"
   ]
  },
  {
   "cell_type": "markdown",
   "id": "cfd4e50a-b740-445f-87ca-81a565c5993b",
   "metadata": {},
   "source": [
    " # Q3. What is multiple inheritance? Write a python code to demonstrate multiple inheritance."
   ]
  },
  {
   "cell_type": "markdown",
   "id": "45a62f42-0848-42f3-8b8c-368de8ebc75e",
   "metadata": {},
   "source": [
    " Multiple Inheritance means to inherit from two or more classes into a single class. For simplicity you can understand your  some characters being inherited from your father and some from your  mother."
   ]
  },
  {
   "cell_type": "code",
   "execution_count": 48,
   "id": "484422d1-8e19-429d-8928-915f6ab3a6e0",
   "metadata": {},
   "outputs": [],
   "source": [
    "class Father:\n",
    "    def __init__(self,voice,beard):\n",
    "        self.voice=voice\n",
    "        self.beard=beard\n",
    "        \n",
    "    \n",
    "class Mother:\n",
    "    def __init__(self,IQ):\n",
    "        self.IQ=IQ"
   ]
  },
  {
   "cell_type": "code",
   "execution_count": 49,
   "id": "9c5ee511-63dd-4030-aa2c-f36ce7d6df22",
   "metadata": {},
   "outputs": [],
   "source": [
    "class Childs(Father,Mother):\n",
    "    def __init__(self,voice,beard,IQ):\n",
    "        Father.__init__(self,voice,beard)\n",
    "        Mother.__init__(self,IQ)"
   ]
  },
  {
   "cell_type": "code",
   "execution_count": 50,
   "id": "bd961130-d616-4c46-b475-00356a3c08fe",
   "metadata": {},
   "outputs": [],
   "source": [
    "Rohan=Childs('deep','long',22)"
   ]
  },
  {
   "cell_type": "code",
   "execution_count": 51,
   "id": "374e4c15-3d25-4782-9b7e-cc7afd207ee7",
   "metadata": {},
   "outputs": [
    {
     "data": {
      "text/plain": [
       "'deep'"
      ]
     },
     "execution_count": 51,
     "metadata": {},
     "output_type": "execute_result"
    }
   ],
   "source": [
    "Rohan.voice"
   ]
  },
  {
   "cell_type": "code",
   "execution_count": 52,
   "id": "5669659a-bcb0-462c-9119-46ea41fb56a7",
   "metadata": {},
   "outputs": [
    {
     "data": {
      "text/plain": [
       "22"
      ]
     },
     "execution_count": 52,
     "metadata": {},
     "output_type": "execute_result"
    }
   ],
   "source": [
    "Rohan.IQ"
   ]
  },
  {
   "cell_type": "markdown",
   "id": "35a458d7-0f5c-46a3-a738-94e034cb888e",
   "metadata": {
    "tags": []
   },
   "source": [
    " # Q4. What are getter and setter in python? Create a class and create a getter and a setter method in this class."
   ]
  },
  {
   "cell_type": "markdown",
   "id": "40a00879-9dc6-41f3-8612-511d2671af49",
   "metadata": {
    "tags": []
   },
   "source": [
    " Getter and setter are the methods which sets and gets the instance variables"
   ]
  },
  {
   "cell_type": "code",
   "execution_count": 54,
   "id": "b6f7e3bf-b296-4076-a63c-85eaf411cdf1",
   "metadata": {},
   "outputs": [],
   "source": [
    "class Methods():\n",
    "    def setName(self,name):\n",
    "        self.name=name\n",
    "        \n",
    "    def getName(self):\n",
    "        return self.name"
   ]
  },
  {
   "cell_type": "code",
   "execution_count": 55,
   "id": "4e9f275e-fe2c-4215-a722-eee3fa46dfad",
   "metadata": {},
   "outputs": [],
   "source": [
    "obj1=Methods()"
   ]
  },
  {
   "cell_type": "code",
   "execution_count": 56,
   "id": "bd2f1bf5-ff02-4866-b395-35ea93a08dee",
   "metadata": {},
   "outputs": [],
   "source": [
    "obj1.setName('Rochak')"
   ]
  },
  {
   "cell_type": "code",
   "execution_count": 57,
   "id": "871635ce-c72c-452b-820b-e458d8a437e2",
   "metadata": {},
   "outputs": [
    {
     "data": {
      "text/plain": [
       "'Rochak'"
      ]
     },
     "execution_count": 57,
     "metadata": {},
     "output_type": "execute_result"
    }
   ],
   "source": [
    "obj1.getName()"
   ]
  },
  {
   "cell_type": "markdown",
   "id": "3df53082-c3d4-4150-bb48-a6eec853750d",
   "metadata": {},
   "source": [
    "# Q5.What is method overriding in python? Write a python code to demonstrate method overriding."
   ]
  },
  {
   "cell_type": "markdown",
   "id": "5613037e-411d-452b-8033-36c4348b7e14",
   "metadata": {},
   "source": [
    "Method overriding is the process of calling the init method of Parent class in the Child Class . In Python we can do this by using super() function."
   ]
  },
  {
   "cell_type": "code",
   "execution_count": 62,
   "id": "4b012381-fe20-4345-b0b9-57dea35ee9f1",
   "metadata": {},
   "outputs": [],
   "source": [
    "class Area:\n",
    "    def __init__(self,x,y):\n",
    "        self.x=x\n",
    "        self.y=y\n",
    "        \n",
    "    def area(self):\n",
    "        return self.x*self.y"
   ]
  },
  {
   "cell_type": "code",
   "execution_count": 63,
   "id": "a17aa4e1-5ad8-4918-a368-1d2201149d70",
   "metadata": {},
   "outputs": [],
   "source": [
    "class Circle(Area):\n",
    "    def __init__(self,radius):\n",
    "        self.radius=radius\n",
    "        super().__init__(radius,radius)\n",
    "        \n",
    "    def area(self):\n",
    "        return 3.14*super().area()"
   ]
  },
  {
   "cell_type": "code",
   "execution_count": 64,
   "id": "0aab4fbf-62c1-4028-84c1-6dca478a7b88",
   "metadata": {},
   "outputs": [],
   "source": [
    "obj2=Circle(7)"
   ]
  },
  {
   "cell_type": "code",
   "execution_count": 65,
   "id": "e0018214-983d-42ea-85e7-7ee1f322f043",
   "metadata": {},
   "outputs": [
    {
     "data": {
      "text/plain": [
       "153.86"
      ]
     },
     "execution_count": 65,
     "metadata": {},
     "output_type": "execute_result"
    }
   ],
   "source": [
    "obj2.area()"
   ]
  },
  {
   "cell_type": "code",
   "execution_count": null,
   "id": "74006ae0-8231-486d-b655-15fe1c756055",
   "metadata": {},
   "outputs": [],
   "source": []
  }
 ],
 "metadata": {
  "kernelspec": {
   "display_name": "Python 3 (ipykernel)",
   "language": "python",
   "name": "python3"
  },
  "language_info": {
   "codemirror_mode": {
    "name": "ipython",
    "version": 3
   },
   "file_extension": ".py",
   "mimetype": "text/x-python",
   "name": "python",
   "nbconvert_exporter": "python",
   "pygments_lexer": "ipython3",
   "version": "3.10.8"
  }
 },
 "nbformat": 4,
 "nbformat_minor": 5
}
