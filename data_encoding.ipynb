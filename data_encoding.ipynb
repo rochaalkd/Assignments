{
 "cells": [
  {
   "cell_type": "markdown",
   "id": "709264c2",
   "metadata": {},
   "source": [
    "# What is data encoding? How is it useful in data science?"
   ]
  },
  {
   "cell_type": "markdown",
   "id": "e6bf37df",
   "metadata": {},
   "source": [
    "Data encoding is the process of converting the categorical data into numerical data.\n",
    "\n",
    "It is useful in data science to feed the data into machine learning models."
   ]
  },
  {
   "cell_type": "markdown",
   "id": "d275a4df",
   "metadata": {},
   "source": [
    "# What is nominal encoding? Provide an example of how you would use it in a real-world scenario."
   ]
  },
  {
   "cell_type": "markdown",
   "id": "6828a1f3",
   "metadata": {},
   "source": [
    "Nominal encoding is the method of assigining numerical  value to the categorical data that has no significance as a number in mathematics.\n",
    "\n",
    "For example, if we encode the name of places then the places are not based on the rank , the number does not satisfy the value of that place.\n",
    "\n",
    "Which can be more clearer in below example:"
   ]
  },
  {
   "cell_type": "code",
   "execution_count": 2,
   "id": "5c7f32d9",
   "metadata": {},
   "outputs": [],
   "source": [
    "import pandas as pd\n",
    "import seaborn as sns"
   ]
  },
  {
   "cell_type": "code",
   "execution_count": 3,
   "id": "2511d42c",
   "metadata": {},
   "outputs": [],
   "source": [
    "df=pd.DataFrame({'places':['Delhi','Chennai','Kolkata','Panjab','Mumbai','Delhi','Chennai','Panjab']})"
   ]
  },
  {
   "cell_type": "code",
   "execution_count": 4,
   "id": "8d1bbe8d",
   "metadata": {},
   "outputs": [
    {
     "data": {
      "text/html": [
       "<div>\n",
       "<style scoped>\n",
       "    .dataframe tbody tr th:only-of-type {\n",
       "        vertical-align: middle;\n",
       "    }\n",
       "\n",
       "    .dataframe tbody tr th {\n",
       "        vertical-align: top;\n",
       "    }\n",
       "\n",
       "    .dataframe thead th {\n",
       "        text-align: right;\n",
       "    }\n",
       "</style>\n",
       "<table border=\"1\" class=\"dataframe\">\n",
       "  <thead>\n",
       "    <tr style=\"text-align: right;\">\n",
       "      <th></th>\n",
       "      <th>places</th>\n",
       "    </tr>\n",
       "  </thead>\n",
       "  <tbody>\n",
       "    <tr>\n",
       "      <th>0</th>\n",
       "      <td>Delhi</td>\n",
       "    </tr>\n",
       "    <tr>\n",
       "      <th>1</th>\n",
       "      <td>Chennai</td>\n",
       "    </tr>\n",
       "    <tr>\n",
       "      <th>2</th>\n",
       "      <td>Kolkata</td>\n",
       "    </tr>\n",
       "    <tr>\n",
       "      <th>3</th>\n",
       "      <td>Panjab</td>\n",
       "    </tr>\n",
       "    <tr>\n",
       "      <th>4</th>\n",
       "      <td>Mumbai</td>\n",
       "    </tr>\n",
       "    <tr>\n",
       "      <th>5</th>\n",
       "      <td>Delhi</td>\n",
       "    </tr>\n",
       "    <tr>\n",
       "      <th>6</th>\n",
       "      <td>Chennai</td>\n",
       "    </tr>\n",
       "    <tr>\n",
       "      <th>7</th>\n",
       "      <td>Panjab</td>\n",
       "    </tr>\n",
       "  </tbody>\n",
       "</table>\n",
       "</div>"
      ],
      "text/plain": [
       "    places\n",
       "0    Delhi\n",
       "1  Chennai\n",
       "2  Kolkata\n",
       "3   Panjab\n",
       "4   Mumbai\n",
       "5    Delhi\n",
       "6  Chennai\n",
       "7   Panjab"
      ]
     },
     "execution_count": 4,
     "metadata": {},
     "output_type": "execute_result"
    }
   ],
   "source": [
    "df"
   ]
  },
  {
   "cell_type": "code",
   "execution_count": 5,
   "id": "edd6773c",
   "metadata": {},
   "outputs": [],
   "source": [
    "from sklearn.preprocessing import LabelEncoder"
   ]
  },
  {
   "cell_type": "code",
   "execution_count": 6,
   "id": "e18c1acd",
   "metadata": {},
   "outputs": [],
   "source": [
    "label=LabelEncoder()"
   ]
  },
  {
   "cell_type": "code",
   "execution_count": 7,
   "id": "e2c6630e",
   "metadata": {},
   "outputs": [
    {
     "name": "stderr",
     "output_type": "stream",
     "text": [
      "C:\\Users\\Rocha\\anaconda3\\lib\\site-packages\\sklearn\\preprocessing\\_label.py:115: DataConversionWarning: A column-vector y was passed when a 1d array was expected. Please change the shape of y to (n_samples, ), for example using ravel().\n",
      "  y = column_or_1d(y, warn=True)\n"
     ]
    }
   ],
   "source": [
    "df['encoded_data']=label.fit_transform(df[['places']])"
   ]
  },
  {
   "cell_type": "code",
   "execution_count": 8,
   "id": "1c62afe6",
   "metadata": {},
   "outputs": [
    {
     "data": {
      "text/html": [
       "<div>\n",
       "<style scoped>\n",
       "    .dataframe tbody tr th:only-of-type {\n",
       "        vertical-align: middle;\n",
       "    }\n",
       "\n",
       "    .dataframe tbody tr th {\n",
       "        vertical-align: top;\n",
       "    }\n",
       "\n",
       "    .dataframe thead th {\n",
       "        text-align: right;\n",
       "    }\n",
       "</style>\n",
       "<table border=\"1\" class=\"dataframe\">\n",
       "  <thead>\n",
       "    <tr style=\"text-align: right;\">\n",
       "      <th></th>\n",
       "      <th>places</th>\n",
       "      <th>encoded_data</th>\n",
       "    </tr>\n",
       "  </thead>\n",
       "  <tbody>\n",
       "    <tr>\n",
       "      <th>0</th>\n",
       "      <td>Delhi</td>\n",
       "      <td>1</td>\n",
       "    </tr>\n",
       "    <tr>\n",
       "      <th>1</th>\n",
       "      <td>Chennai</td>\n",
       "      <td>0</td>\n",
       "    </tr>\n",
       "    <tr>\n",
       "      <th>2</th>\n",
       "      <td>Kolkata</td>\n",
       "      <td>2</td>\n",
       "    </tr>\n",
       "    <tr>\n",
       "      <th>3</th>\n",
       "      <td>Panjab</td>\n",
       "      <td>4</td>\n",
       "    </tr>\n",
       "    <tr>\n",
       "      <th>4</th>\n",
       "      <td>Mumbai</td>\n",
       "      <td>3</td>\n",
       "    </tr>\n",
       "    <tr>\n",
       "      <th>5</th>\n",
       "      <td>Delhi</td>\n",
       "      <td>1</td>\n",
       "    </tr>\n",
       "    <tr>\n",
       "      <th>6</th>\n",
       "      <td>Chennai</td>\n",
       "      <td>0</td>\n",
       "    </tr>\n",
       "    <tr>\n",
       "      <th>7</th>\n",
       "      <td>Panjab</td>\n",
       "      <td>4</td>\n",
       "    </tr>\n",
       "  </tbody>\n",
       "</table>\n",
       "</div>"
      ],
      "text/plain": [
       "    places  encoded_data\n",
       "0    Delhi             1\n",
       "1  Chennai             0\n",
       "2  Kolkata             2\n",
       "3   Panjab             4\n",
       "4   Mumbai             3\n",
       "5    Delhi             1\n",
       "6  Chennai             0\n",
       "7   Panjab             4"
      ]
     },
     "execution_count": 8,
     "metadata": {},
     "output_type": "execute_result"
    }
   ],
   "source": [
    "df"
   ]
  },
  {
   "cell_type": "markdown",
   "id": "a2dcac44",
   "metadata": {},
   "source": [
    "# In what situations is nominal encoding preferred over one-hot encoding? Provide a practical example."
   ]
  },
  {
   "cell_type": "markdown",
   "id": "6e8d082f",
   "metadata": {},
   "source": [
    "Nominal Encoding is preferred over one-hot encoding when you have only one column for feature and there are many elements in the columns and the elements are also repeating"
   ]
  },
  {
   "cell_type": "code",
   "execution_count": 21,
   "id": "4b955ff5",
   "metadata": {},
   "outputs": [],
   "source": [
    "df1=pd.DataFrame({'colors':['black','red','blue','black','red','red','yellow','red',\n",
    "                    'blue','black','red','pink','yellow',\n",
    "                           'red','pink','yellow','grey','violet','indigo','brown','orange','green']})"
   ]
  },
  {
   "cell_type": "code",
   "execution_count": 22,
   "id": "4563f373",
   "metadata": {},
   "outputs": [
    {
     "data": {
      "text/html": [
       "<div>\n",
       "<style scoped>\n",
       "    .dataframe tbody tr th:only-of-type {\n",
       "        vertical-align: middle;\n",
       "    }\n",
       "\n",
       "    .dataframe tbody tr th {\n",
       "        vertical-align: top;\n",
       "    }\n",
       "\n",
       "    .dataframe thead th {\n",
       "        text-align: right;\n",
       "    }\n",
       "</style>\n",
       "<table border=\"1\" class=\"dataframe\">\n",
       "  <thead>\n",
       "    <tr style=\"text-align: right;\">\n",
       "      <th></th>\n",
       "      <th>colors</th>\n",
       "    </tr>\n",
       "  </thead>\n",
       "  <tbody>\n",
       "    <tr>\n",
       "      <th>0</th>\n",
       "      <td>black</td>\n",
       "    </tr>\n",
       "    <tr>\n",
       "      <th>1</th>\n",
       "      <td>red</td>\n",
       "    </tr>\n",
       "    <tr>\n",
       "      <th>2</th>\n",
       "      <td>blue</td>\n",
       "    </tr>\n",
       "    <tr>\n",
       "      <th>3</th>\n",
       "      <td>black</td>\n",
       "    </tr>\n",
       "    <tr>\n",
       "      <th>4</th>\n",
       "      <td>red</td>\n",
       "    </tr>\n",
       "    <tr>\n",
       "      <th>5</th>\n",
       "      <td>red</td>\n",
       "    </tr>\n",
       "    <tr>\n",
       "      <th>6</th>\n",
       "      <td>yellow</td>\n",
       "    </tr>\n",
       "    <tr>\n",
       "      <th>7</th>\n",
       "      <td>red</td>\n",
       "    </tr>\n",
       "    <tr>\n",
       "      <th>8</th>\n",
       "      <td>blue</td>\n",
       "    </tr>\n",
       "    <tr>\n",
       "      <th>9</th>\n",
       "      <td>black</td>\n",
       "    </tr>\n",
       "    <tr>\n",
       "      <th>10</th>\n",
       "      <td>red</td>\n",
       "    </tr>\n",
       "    <tr>\n",
       "      <th>11</th>\n",
       "      <td>pink</td>\n",
       "    </tr>\n",
       "    <tr>\n",
       "      <th>12</th>\n",
       "      <td>yellow</td>\n",
       "    </tr>\n",
       "    <tr>\n",
       "      <th>13</th>\n",
       "      <td>red</td>\n",
       "    </tr>\n",
       "    <tr>\n",
       "      <th>14</th>\n",
       "      <td>pink</td>\n",
       "    </tr>\n",
       "    <tr>\n",
       "      <th>15</th>\n",
       "      <td>yellow</td>\n",
       "    </tr>\n",
       "    <tr>\n",
       "      <th>16</th>\n",
       "      <td>grey</td>\n",
       "    </tr>\n",
       "    <tr>\n",
       "      <th>17</th>\n",
       "      <td>violet</td>\n",
       "    </tr>\n",
       "    <tr>\n",
       "      <th>18</th>\n",
       "      <td>indigo</td>\n",
       "    </tr>\n",
       "    <tr>\n",
       "      <th>19</th>\n",
       "      <td>brown</td>\n",
       "    </tr>\n",
       "    <tr>\n",
       "      <th>20</th>\n",
       "      <td>orange</td>\n",
       "    </tr>\n",
       "    <tr>\n",
       "      <th>21</th>\n",
       "      <td>green</td>\n",
       "    </tr>\n",
       "  </tbody>\n",
       "</table>\n",
       "</div>"
      ],
      "text/plain": [
       "    colors\n",
       "0    black\n",
       "1      red\n",
       "2     blue\n",
       "3    black\n",
       "4      red\n",
       "5      red\n",
       "6   yellow\n",
       "7      red\n",
       "8     blue\n",
       "9    black\n",
       "10     red\n",
       "11    pink\n",
       "12  yellow\n",
       "13     red\n",
       "14    pink\n",
       "15  yellow\n",
       "16    grey\n",
       "17  violet\n",
       "18  indigo\n",
       "19   brown\n",
       "20  orange\n",
       "21   green"
      ]
     },
     "execution_count": 22,
     "metadata": {},
     "output_type": "execute_result"
    }
   ],
   "source": [
    "df1"
   ]
  },
  {
   "cell_type": "code",
   "execution_count": 23,
   "id": "617a9f5b",
   "metadata": {},
   "outputs": [],
   "source": [
    "# Applying OneHot Code in it\n",
    "from sklearn.preprocessing import OneHotEncoder"
   ]
  },
  {
   "cell_type": "code",
   "execution_count": 24,
   "id": "0d5b1f1f",
   "metadata": {},
   "outputs": [],
   "source": [
    "enco=OneHotEncoder()"
   ]
  },
  {
   "cell_type": "code",
   "execution_count": 25,
   "id": "578ac8fe",
   "metadata": {},
   "outputs": [],
   "source": [
    "OHE=enco.fit_transform(df1[['colors']]).toarray()"
   ]
  },
  {
   "cell_type": "code",
   "execution_count": 26,
   "id": "42ea62ae",
   "metadata": {},
   "outputs": [
    {
     "data": {
      "text/plain": [
       "array([[1., 0., 0., 0., 0., 0., 0., 0., 0., 0., 0.],\n",
       "       [0., 0., 0., 0., 0., 0., 0., 0., 1., 0., 0.],\n",
       "       [0., 1., 0., 0., 0., 0., 0., 0., 0., 0., 0.],\n",
       "       [1., 0., 0., 0., 0., 0., 0., 0., 0., 0., 0.],\n",
       "       [0., 0., 0., 0., 0., 0., 0., 0., 1., 0., 0.],\n",
       "       [0., 0., 0., 0., 0., 0., 0., 0., 1., 0., 0.],\n",
       "       [0., 0., 0., 0., 0., 0., 0., 0., 0., 0., 1.],\n",
       "       [0., 0., 0., 0., 0., 0., 0., 0., 1., 0., 0.],\n",
       "       [0., 1., 0., 0., 0., 0., 0., 0., 0., 0., 0.],\n",
       "       [1., 0., 0., 0., 0., 0., 0., 0., 0., 0., 0.],\n",
       "       [0., 0., 0., 0., 0., 0., 0., 0., 1., 0., 0.],\n",
       "       [0., 0., 0., 0., 0., 0., 0., 1., 0., 0., 0.],\n",
       "       [0., 0., 0., 0., 0., 0., 0., 0., 0., 0., 1.],\n",
       "       [0., 0., 0., 0., 0., 0., 0., 0., 1., 0., 0.],\n",
       "       [0., 0., 0., 0., 0., 0., 0., 1., 0., 0., 0.],\n",
       "       [0., 0., 0., 0., 0., 0., 0., 0., 0., 0., 1.],\n",
       "       [0., 0., 0., 0., 1., 0., 0., 0., 0., 0., 0.],\n",
       "       [0., 0., 0., 0., 0., 0., 0., 0., 0., 1., 0.],\n",
       "       [0., 0., 0., 0., 0., 1., 0., 0., 0., 0., 0.],\n",
       "       [0., 0., 1., 0., 0., 0., 0., 0., 0., 0., 0.],\n",
       "       [0., 0., 0., 0., 0., 0., 1., 0., 0., 0., 0.],\n",
       "       [0., 0., 0., 1., 0., 0., 0., 0., 0., 0., 0.]])"
      ]
     },
     "execution_count": 26,
     "metadata": {},
     "output_type": "execute_result"
    }
   ],
   "source": [
    "OHE\n"
   ]
  },
  {
   "cell_type": "markdown",
   "id": "11575486",
   "metadata": {},
   "source": [
    "### Here we can see that the many features yielded a large matrix value that will be a little difficult for algorthm to process"
   ]
  },
  {
   "cell_type": "code",
   "execution_count": 27,
   "id": "08693d5c",
   "metadata": {},
   "outputs": [
    {
     "name": "stderr",
     "output_type": "stream",
     "text": [
      "C:\\Users\\Rocha\\anaconda3\\lib\\site-packages\\sklearn\\preprocessing\\_label.py:115: DataConversionWarning: A column-vector y was passed when a 1d array was expected. Please change the shape of y to (n_samples, ), for example using ravel().\n",
      "  y = column_or_1d(y, warn=True)\n"
     ]
    }
   ],
   "source": [
    "#Applying nominal encoding\n",
    "label2=label.fit_transform(df1[['colors']])\n"
   ]
  },
  {
   "cell_type": "code",
   "execution_count": 28,
   "id": "17d58ac5",
   "metadata": {},
   "outputs": [
    {
     "data": {
      "text/plain": [
       "array([ 0,  8,  1,  0,  8,  8, 10,  8,  1,  0,  8,  7, 10,  8,  7, 10,  4,\n",
       "        9,  5,  2,  6,  3])"
      ]
     },
     "execution_count": 28,
     "metadata": {},
     "output_type": "execute_result"
    }
   ],
   "source": [
    "label2"
   ]
  },
  {
   "cell_type": "markdown",
   "id": "0a28d759",
   "metadata": {},
   "source": [
    "# Q4. Suppose you have a dataset containing categorical data with 5 unique values. Which encoding technique would you use to transform this data into a format suitable for machine learning algorithms? Explain why you made this choice."
   ]
  },
  {
   "cell_type": "markdown",
   "id": "1d5cb8f7",
   "metadata": {},
   "source": [
    "In this case I will apply onehotencoder.\n",
    "\n",
    "Because in this case we have only few unique values and onehotencoder produces a sparse matrix which is faster for input processing \n",
    " than others."
   ]
  },
  {
   "cell_type": "markdown",
   "id": "39da50bd",
   "metadata": {},
   "source": [
    "# Q6. You are working with a dataset containing information about different types of animals, including their species, habitat, and diet. Which encoding technique would you use to transform the categorical data into a format suitable for machine learning algorithms? Justify your answer."
   ]
  },
  {
   "cell_type": "markdown",
   "id": "40097d3e",
   "metadata": {},
   "source": [
    "One-Hot Encoding would be appropriate for the \"species\" and \"habitat\" variables since there are likely to be many unique values \n",
    "\n",
    "for these variables. One-Hot Encoding will create a binary vector representation of each unique value in the categorical \n",
    "\n",
    "variable, which can be used as input for machine learning algorithms. This technique avoids any potential biases or assumptions \n",
    "\n",
    "the underlying relationships between these values.\n",
    "\n",
    "For the \"diet\" variable, since there are a limited number of unique values, Label Encoding could be used. Label Encoding would assign a numerical label to each unique value in the categorical variable, which can be used as input for machine learning algorithms. However, it is important to note that this technique assumes an ordinal relationship between the unique values, which may not exist in reality.\n",
    "\n",
    "Overall, the combination of One-Hot Encoding and Label Encoding is a commonly used approach for encoding multiple categorical variables in a dataset. It provides a balance between avoiding assumptions about relationships between values while still maintaining the ability to represent the data in a suitable format for machine learning algorithms."
   ]
  },
  {
   "cell_type": "markdown",
   "id": "b5b1e6ce",
   "metadata": {},
   "source": [
    "# Q7.You are working on a project that involves predicting customer churn for a telecommunications company. You have a dataset with 5 features, including the customer's gender, age, contract type, monthly charges, and tenure. Which encoding technique(s) would you use to transform the categorical data into numerical data? Provide a step-by-step explanation how you would implement the encoding."
   ]
  },
  {
   "cell_type": "markdown",
   "id": "81eb09a6",
   "metadata": {},
   "source": [
    "Here we have only two categorical data, they are customer's gender and contract type. \n",
    "\n",
    " For Customer's gender there may be only 3 unique values so we can apply OneHot Encoder as done in above .\n",
    "    \n",
    "For contract I will use ordinal Encoding as the contract can be ranked according to the agreement .\n",
    "\n",
    "Applying Ordinal Encoding\n",
    "\n",
    "from sklearn.preprocessing OrdinalEncoder\n",
    "\n",
    "OE=OrdinalEncoder(categories=[['a','b','c']])\n",
    "\n",
    "OE.fit_transform(df[['column_name']])"
   ]
  },
  {
   "cell_type": "code",
   "execution_count": null,
   "id": "41e2bb81",
   "metadata": {},
   "outputs": [],
   "source": []
  }
 ],
 "metadata": {
  "kernelspec": {
   "display_name": "Python 3 (ipykernel)",
   "language": "python",
   "name": "python3"
  },
  "language_info": {
   "codemirror_mode": {
    "name": "ipython",
    "version": 3
   },
   "file_extension": ".py",
   "mimetype": "text/x-python",
   "name": "python",
   "nbconvert_exporter": "python",
   "pygments_lexer": "ipython3",
   "version": "3.9.13"
  }
 },
 "nbformat": 4,
 "nbformat_minor": 5
}
